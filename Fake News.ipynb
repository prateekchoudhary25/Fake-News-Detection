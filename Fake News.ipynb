{
 "cells": [
  {
   "cell_type": "code",
   "execution_count": 1,
   "id": "2f9349bd",
   "metadata": {},
   "outputs": [],
   "source": [
    "import pandas as pd\n",
    "import numpy as np\n",
    "import matplotlib.pyplot as plt\n",
    "import seaborn as sns\n",
    "%matplotlib inline\n",
    "from sklearn.model_selection import train_test_split\n",
    "from sklearn.metrics import accuracy_score\n",
    "from sklearn.metrics import classification_report\n",
    "import re\n",
    "import string\n",
    "import warnings\n",
    "warnings.filterwarnings('ignore')\n",
    "from collections import Counter\n",
    "from sklearn.ensemble import GradientBoostingClassifier\n",
    "from xgboost import XGBClassifier\n",
    "from sklearn.ensemble import AdaBoostClassifier\n",
    "from sklearn.metrics import classification_report\n",
    "\n",
    "\n"
   ]
  },
  {
   "cell_type": "code",
   "execution_count": 2,
   "id": "aa7ed4b5",
   "metadata": {},
   "outputs": [],
   "source": [
    "# Read the real news dataset from the specified CSV file\n",
    "real_df = pd.read_csv(r\"D:\\Fake News Classifier\\Data Sources\\Fake and real news dataset\\Merged data\\True.csv\")\n",
    "\n",
    "# Read the fake news dataset from the specified CSV file\n",
    "fake_df = pd.read_csv(r\"D:\\Fake News Classifier\\Data Sources\\Fake and real news dataset\\Merged data\\Fake.csv\")\n"
   ]
  },
  {
   "cell_type": "code",
   "execution_count": 3,
   "id": "3423bde3",
   "metadata": {},
   "outputs": [
    {
     "data": {
      "text/html": [
       "<div>\n",
       "<style scoped>\n",
       "    .dataframe tbody tr th:only-of-type {\n",
       "        vertical-align: middle;\n",
       "    }\n",
       "\n",
       "    .dataframe tbody tr th {\n",
       "        vertical-align: top;\n",
       "    }\n",
       "\n",
       "    .dataframe thead th {\n",
       "        text-align: right;\n",
       "    }\n",
       "</style>\n",
       "<table border=\"1\" class=\"dataframe\">\n",
       "  <thead>\n",
       "    <tr style=\"text-align: right;\">\n",
       "      <th></th>\n",
       "      <th>title</th>\n",
       "      <th>text</th>\n",
       "      <th>subject</th>\n",
       "      <th>date</th>\n",
       "      <th>label</th>\n",
       "    </tr>\n",
       "  </thead>\n",
       "  <tbody>\n",
       "    <tr>\n",
       "      <th>0</th>\n",
       "      <td>As U.S. budget fight looms, Republicans flip t...</td>\n",
       "      <td>WASHINGTON (Reuters) - The head of a conservat...</td>\n",
       "      <td>politicsNews</td>\n",
       "      <td>December 31, 2022</td>\n",
       "      <td>Real</td>\n",
       "    </tr>\n",
       "    <tr>\n",
       "      <th>1</th>\n",
       "      <td>U.S. military to accept transgender recruits o...</td>\n",
       "      <td>WASHINGTON (Reuters) - Transgender people will...</td>\n",
       "      <td>politicsNews</td>\n",
       "      <td>December 29, 2022</td>\n",
       "      <td>Real</td>\n",
       "    </tr>\n",
       "    <tr>\n",
       "      <th>2</th>\n",
       "      <td>Senior U.S. Republican senator: 'Let Mr. Muell...</td>\n",
       "      <td>WASHINGTON (Reuters) - The special counsel inv...</td>\n",
       "      <td>politicsNews</td>\n",
       "      <td>December 31, 2022</td>\n",
       "      <td>Real</td>\n",
       "    </tr>\n",
       "    <tr>\n",
       "      <th>3</th>\n",
       "      <td>FBI Russia probe helped by Australian diplomat...</td>\n",
       "      <td>WASHINGTON (Reuters) - Trump campaign adviser ...</td>\n",
       "      <td>politicsNews</td>\n",
       "      <td>December 30, 2022</td>\n",
       "      <td>Real</td>\n",
       "    </tr>\n",
       "    <tr>\n",
       "      <th>4</th>\n",
       "      <td>Trump wants Postal Service to charge 'much mor...</td>\n",
       "      <td>SEATTLE/WASHINGTON (Reuters) - President Donal...</td>\n",
       "      <td>politicsNews</td>\n",
       "      <td>December 29, 2022</td>\n",
       "      <td>Real</td>\n",
       "    </tr>\n",
       "  </tbody>\n",
       "</table>\n",
       "</div>"
      ],
      "text/plain": [
       "                                               title  \\\n",
       "0  As U.S. budget fight looms, Republicans flip t...   \n",
       "1  U.S. military to accept transgender recruits o...   \n",
       "2  Senior U.S. Republican senator: 'Let Mr. Muell...   \n",
       "3  FBI Russia probe helped by Australian diplomat...   \n",
       "4  Trump wants Postal Service to charge 'much mor...   \n",
       "\n",
       "                                                text       subject  \\\n",
       "0  WASHINGTON (Reuters) - The head of a conservat...  politicsNews   \n",
       "1  WASHINGTON (Reuters) - Transgender people will...  politicsNews   \n",
       "2  WASHINGTON (Reuters) - The special counsel inv...  politicsNews   \n",
       "3  WASHINGTON (Reuters) - Trump campaign adviser ...  politicsNews   \n",
       "4  SEATTLE/WASHINGTON (Reuters) - President Donal...  politicsNews   \n",
       "\n",
       "                 date label  \n",
       "0  December 31, 2022   Real  \n",
       "1  December 29, 2022   Real  \n",
       "2  December 31, 2022   Real  \n",
       "3  December 30, 2022   Real  \n",
       "4  December 29, 2022   Real  "
      ]
     },
     "execution_count": 3,
     "metadata": {},
     "output_type": "execute_result"
    }
   ],
   "source": [
    "real_df.head() #prints the first 5 rows"
   ]
  },
  {
   "cell_type": "code",
   "execution_count": 4,
   "id": "1566c8e2",
   "metadata": {},
   "outputs": [
    {
     "data": {
      "text/html": [
       "<div>\n",
       "<style scoped>\n",
       "    .dataframe tbody tr th:only-of-type {\n",
       "        vertical-align: middle;\n",
       "    }\n",
       "\n",
       "    .dataframe tbody tr th {\n",
       "        vertical-align: top;\n",
       "    }\n",
       "\n",
       "    .dataframe thead th {\n",
       "        text-align: right;\n",
       "    }\n",
       "</style>\n",
       "<table border=\"1\" class=\"dataframe\">\n",
       "  <thead>\n",
       "    <tr style=\"text-align: right;\">\n",
       "      <th></th>\n",
       "      <th>title</th>\n",
       "      <th>text</th>\n",
       "      <th>subject</th>\n",
       "      <th>date</th>\n",
       "      <th>label</th>\n",
       "    </tr>\n",
       "  </thead>\n",
       "  <tbody>\n",
       "    <tr>\n",
       "      <th>30951</th>\n",
       "      <td>Trump sinks Asia trade pact, opening the way f...</td>\n",
       "      <td>TOKYO/SYDNEY (Reuters) - An ambitious Asia-Pac...</td>\n",
       "      <td>politicsNews</td>\n",
       "      <td>November 22, 2022</td>\n",
       "      <td>Real</td>\n",
       "    </tr>\n",
       "    <tr>\n",
       "      <th>30952</th>\n",
       "      <td>Chinese official optimistic about US trade ami...</td>\n",
       "      <td>WASHINGTON (Reuters) - Chinese Vice Premier Wa...</td>\n",
       "      <td>politicsNews</td>\n",
       "      <td>November 22, 2022</td>\n",
       "      <td>Real</td>\n",
       "    </tr>\n",
       "    <tr>\n",
       "      <th>30953</th>\n",
       "      <td>Italy to push Iran trade ties, undaunted by Trump</td>\n",
       "      <td>ROME (Reuters) - Italy’s industry minister ple...</td>\n",
       "      <td>politicsNews</td>\n",
       "      <td>November 22, 2022</td>\n",
       "      <td>Real</td>\n",
       "    </tr>\n",
       "    <tr>\n",
       "      <th>30954</th>\n",
       "      <td>Obama's not-so-secret admirer: Donald Trump</td>\n",
       "      <td>WASHINGTON (Reuters) - President Barack Obama ...</td>\n",
       "      <td>politicsNews</td>\n",
       "      <td>November 22, 2022</td>\n",
       "      <td>Real</td>\n",
       "    </tr>\n",
       "    <tr>\n",
       "      <th>30955</th>\n",
       "      <td>Peru proposes talks to save TPP after Trump fi...</td>\n",
       "      <td>LIMA (Reuters) - Peru proposed new talks to en...</td>\n",
       "      <td>politicsNews</td>\n",
       "      <td>November 22, 2022</td>\n",
       "      <td>Real</td>\n",
       "    </tr>\n",
       "  </tbody>\n",
       "</table>\n",
       "</div>"
      ],
      "text/plain": [
       "                                                   title  \\\n",
       "30951  Trump sinks Asia trade pact, opening the way f...   \n",
       "30952  Chinese official optimistic about US trade ami...   \n",
       "30953  Italy to push Iran trade ties, undaunted by Trump   \n",
       "30954        Obama's not-so-secret admirer: Donald Trump   \n",
       "30955  Peru proposes talks to save TPP after Trump fi...   \n",
       "\n",
       "                                                    text       subject  \\\n",
       "30951  TOKYO/SYDNEY (Reuters) - An ambitious Asia-Pac...  politicsNews   \n",
       "30952  WASHINGTON (Reuters) - Chinese Vice Premier Wa...  politicsNews   \n",
       "30953  ROME (Reuters) - Italy’s industry minister ple...  politicsNews   \n",
       "30954  WASHINGTON (Reuters) - President Barack Obama ...  politicsNews   \n",
       "30955  LIMA (Reuters) - Peru proposed new talks to en...  politicsNews   \n",
       "\n",
       "                     date label  \n",
       "30951  November 22, 2022   Real  \n",
       "30952  November 22, 2022   Real  \n",
       "30953  November 22, 2022   Real  \n",
       "30954  November 22, 2022   Real  \n",
       "30955  November 22, 2022   Real  "
      ]
     },
     "execution_count": 4,
     "metadata": {},
     "output_type": "execute_result"
    }
   ],
   "source": [
    "real_df.tail() #prints the last 5 rows"
   ]
  },
  {
   "cell_type": "code",
   "execution_count": 5,
   "id": "63da8429",
   "metadata": {},
   "outputs": [
    {
     "data": {
      "text/html": [
       "<div>\n",
       "<style scoped>\n",
       "    .dataframe tbody tr th:only-of-type {\n",
       "        vertical-align: middle;\n",
       "    }\n",
       "\n",
       "    .dataframe tbody tr th {\n",
       "        vertical-align: top;\n",
       "    }\n",
       "\n",
       "    .dataframe thead th {\n",
       "        text-align: right;\n",
       "    }\n",
       "</style>\n",
       "<table border=\"1\" class=\"dataframe\">\n",
       "  <thead>\n",
       "    <tr style=\"text-align: right;\">\n",
       "      <th></th>\n",
       "      <th>title</th>\n",
       "      <th>text</th>\n",
       "      <th>subject</th>\n",
       "      <th>date</th>\n",
       "      <th>label</th>\n",
       "      <th>Unnamed: 5</th>\n",
       "      <th>Unnamed: 6</th>\n",
       "      <th>Unnamed: 7</th>\n",
       "      <th>Unnamed: 8</th>\n",
       "      <th>Unnamed: 9</th>\n",
       "      <th>...</th>\n",
       "      <th>Unnamed: 162</th>\n",
       "      <th>Unnamed: 163</th>\n",
       "      <th>Unnamed: 164</th>\n",
       "      <th>Unnamed: 165</th>\n",
       "      <th>Unnamed: 166</th>\n",
       "      <th>Unnamed: 167</th>\n",
       "      <th>Unnamed: 168</th>\n",
       "      <th>Unnamed: 169</th>\n",
       "      <th>Unnamed: 170</th>\n",
       "      <th>Unnamed: 171</th>\n",
       "    </tr>\n",
       "  </thead>\n",
       "  <tbody>\n",
       "    <tr>\n",
       "      <th>0</th>\n",
       "      <td>Donald Trump Sends Out Embarrassing New Year’...</td>\n",
       "      <td>Donald Trump just couldn t wish all Americans ...</td>\n",
       "      <td>News</td>\n",
       "      <td>December 31, 2022</td>\n",
       "      <td>Fake</td>\n",
       "      <td>NaN</td>\n",
       "      <td>NaN</td>\n",
       "      <td>NaN</td>\n",
       "      <td>NaN</td>\n",
       "      <td>NaN</td>\n",
       "      <td>...</td>\n",
       "      <td>NaN</td>\n",
       "      <td>NaN</td>\n",
       "      <td>NaN</td>\n",
       "      <td>NaN</td>\n",
       "      <td>NaN</td>\n",
       "      <td>NaN</td>\n",
       "      <td>NaN</td>\n",
       "      <td>NaN</td>\n",
       "      <td>NaN</td>\n",
       "      <td>NaN</td>\n",
       "    </tr>\n",
       "    <tr>\n",
       "      <th>1</th>\n",
       "      <td>Drunk Bragging Trump Staffer Started Russian ...</td>\n",
       "      <td>House Intelligence Committee Chairman Devin Nu...</td>\n",
       "      <td>News</td>\n",
       "      <td>December 31, 2022</td>\n",
       "      <td>Fake</td>\n",
       "      <td>NaN</td>\n",
       "      <td>NaN</td>\n",
       "      <td>NaN</td>\n",
       "      <td>NaN</td>\n",
       "      <td>NaN</td>\n",
       "      <td>...</td>\n",
       "      <td>NaN</td>\n",
       "      <td>NaN</td>\n",
       "      <td>NaN</td>\n",
       "      <td>NaN</td>\n",
       "      <td>NaN</td>\n",
       "      <td>NaN</td>\n",
       "      <td>NaN</td>\n",
       "      <td>NaN</td>\n",
       "      <td>NaN</td>\n",
       "      <td>NaN</td>\n",
       "    </tr>\n",
       "    <tr>\n",
       "      <th>2</th>\n",
       "      <td>Sheriff David Clarke Becomes An Internet Joke...</td>\n",
       "      <td>On Friday, it was revealed that former Milwauk...</td>\n",
       "      <td>News</td>\n",
       "      <td>December 30, 2022</td>\n",
       "      <td>Fake</td>\n",
       "      <td>NaN</td>\n",
       "      <td>NaN</td>\n",
       "      <td>NaN</td>\n",
       "      <td>NaN</td>\n",
       "      <td>NaN</td>\n",
       "      <td>...</td>\n",
       "      <td>NaN</td>\n",
       "      <td>NaN</td>\n",
       "      <td>NaN</td>\n",
       "      <td>NaN</td>\n",
       "      <td>NaN</td>\n",
       "      <td>NaN</td>\n",
       "      <td>NaN</td>\n",
       "      <td>NaN</td>\n",
       "      <td>NaN</td>\n",
       "      <td>NaN</td>\n",
       "    </tr>\n",
       "    <tr>\n",
       "      <th>3</th>\n",
       "      <td>Trump Is So Obsessed He Even Has Obama’s Name...</td>\n",
       "      <td>On Christmas day, Donald Trump announced that ...</td>\n",
       "      <td>News</td>\n",
       "      <td>December 29, 2022</td>\n",
       "      <td>Fake</td>\n",
       "      <td>NaN</td>\n",
       "      <td>NaN</td>\n",
       "      <td>NaN</td>\n",
       "      <td>NaN</td>\n",
       "      <td>NaN</td>\n",
       "      <td>...</td>\n",
       "      <td>NaN</td>\n",
       "      <td>NaN</td>\n",
       "      <td>NaN</td>\n",
       "      <td>NaN</td>\n",
       "      <td>NaN</td>\n",
       "      <td>NaN</td>\n",
       "      <td>NaN</td>\n",
       "      <td>NaN</td>\n",
       "      <td>NaN</td>\n",
       "      <td>NaN</td>\n",
       "    </tr>\n",
       "    <tr>\n",
       "      <th>4</th>\n",
       "      <td>Pope Francis Just Called Out Donald Trump Dur...</td>\n",
       "      <td>Pope Francis used his annual Christmas Day mes...</td>\n",
       "      <td>News</td>\n",
       "      <td>December 25, 2022</td>\n",
       "      <td>Fake</td>\n",
       "      <td>NaN</td>\n",
       "      <td>NaN</td>\n",
       "      <td>NaN</td>\n",
       "      <td>NaN</td>\n",
       "      <td>NaN</td>\n",
       "      <td>...</td>\n",
       "      <td>NaN</td>\n",
       "      <td>NaN</td>\n",
       "      <td>NaN</td>\n",
       "      <td>NaN</td>\n",
       "      <td>NaN</td>\n",
       "      <td>NaN</td>\n",
       "      <td>NaN</td>\n",
       "      <td>NaN</td>\n",
       "      <td>NaN</td>\n",
       "      <td>NaN</td>\n",
       "    </tr>\n",
       "  </tbody>\n",
       "</table>\n",
       "<p>5 rows × 172 columns</p>\n",
       "</div>"
      ],
      "text/plain": [
       "                                               title  \\\n",
       "0   Donald Trump Sends Out Embarrassing New Year’...   \n",
       "1   Drunk Bragging Trump Staffer Started Russian ...   \n",
       "2   Sheriff David Clarke Becomes An Internet Joke...   \n",
       "3   Trump Is So Obsessed He Even Has Obama’s Name...   \n",
       "4   Pope Francis Just Called Out Donald Trump Dur...   \n",
       "\n",
       "                                                text subject  \\\n",
       "0  Donald Trump just couldn t wish all Americans ...    News   \n",
       "1  House Intelligence Committee Chairman Devin Nu...    News   \n",
       "2  On Friday, it was revealed that former Milwauk...    News   \n",
       "3  On Christmas day, Donald Trump announced that ...    News   \n",
       "4  Pope Francis used his annual Christmas Day mes...    News   \n",
       "\n",
       "                date label Unnamed: 5 Unnamed: 6 Unnamed: 7 Unnamed: 8  \\\n",
       "0  December 31, 2022  Fake        NaN        NaN        NaN        NaN   \n",
       "1  December 31, 2022  Fake        NaN        NaN        NaN        NaN   \n",
       "2  December 30, 2022  Fake        NaN        NaN        NaN        NaN   \n",
       "3  December 29, 2022  Fake        NaN        NaN        NaN        NaN   \n",
       "4  December 25, 2022  Fake        NaN        NaN        NaN        NaN   \n",
       "\n",
       "  Unnamed: 9  ... Unnamed: 162 Unnamed: 163 Unnamed: 164 Unnamed: 165  \\\n",
       "0        NaN  ...          NaN          NaN          NaN          NaN   \n",
       "1        NaN  ...          NaN          NaN          NaN          NaN   \n",
       "2        NaN  ...          NaN          NaN          NaN          NaN   \n",
       "3        NaN  ...          NaN          NaN          NaN          NaN   \n",
       "4        NaN  ...          NaN          NaN          NaN          NaN   \n",
       "\n",
       "  Unnamed: 166 Unnamed: 167 Unnamed: 168 Unnamed: 169 Unnamed: 170  \\\n",
       "0          NaN          NaN          NaN          NaN          NaN   \n",
       "1          NaN          NaN          NaN          NaN          NaN   \n",
       "2          NaN          NaN          NaN          NaN          NaN   \n",
       "3          NaN          NaN          NaN          NaN          NaN   \n",
       "4          NaN          NaN          NaN          NaN          NaN   \n",
       "\n",
       "  Unnamed: 171  \n",
       "0          NaN  \n",
       "1          NaN  \n",
       "2          NaN  \n",
       "3          NaN  \n",
       "4          NaN  \n",
       "\n",
       "[5 rows x 172 columns]"
      ]
     },
     "execution_count": 5,
     "metadata": {},
     "output_type": "execute_result"
    }
   ],
   "source": [
    "fake_df.head() #prints the first 5 rows"
   ]
  },
  {
   "cell_type": "code",
   "execution_count": 6,
   "id": "acba0145",
   "metadata": {},
   "outputs": [
    {
     "data": {
      "text/html": [
       "<div>\n",
       "<style scoped>\n",
       "    .dataframe tbody tr th:only-of-type {\n",
       "        vertical-align: middle;\n",
       "    }\n",
       "\n",
       "    .dataframe tbody tr th {\n",
       "        vertical-align: top;\n",
       "    }\n",
       "\n",
       "    .dataframe thead th {\n",
       "        text-align: right;\n",
       "    }\n",
       "</style>\n",
       "<table border=\"1\" class=\"dataframe\">\n",
       "  <thead>\n",
       "    <tr style=\"text-align: right;\">\n",
       "      <th></th>\n",
       "      <th>title</th>\n",
       "      <th>text</th>\n",
       "      <th>subject</th>\n",
       "      <th>date</th>\n",
       "      <th>label</th>\n",
       "      <th>Unnamed: 5</th>\n",
       "      <th>Unnamed: 6</th>\n",
       "      <th>Unnamed: 7</th>\n",
       "      <th>Unnamed: 8</th>\n",
       "      <th>Unnamed: 9</th>\n",
       "      <th>...</th>\n",
       "      <th>Unnamed: 162</th>\n",
       "      <th>Unnamed: 163</th>\n",
       "      <th>Unnamed: 164</th>\n",
       "      <th>Unnamed: 165</th>\n",
       "      <th>Unnamed: 166</th>\n",
       "      <th>Unnamed: 167</th>\n",
       "      <th>Unnamed: 168</th>\n",
       "      <th>Unnamed: 169</th>\n",
       "      <th>Unnamed: 170</th>\n",
       "      <th>Unnamed: 171</th>\n",
       "    </tr>\n",
       "  </thead>\n",
       "  <tbody>\n",
       "    <tr>\n",
       "      <th>33291</th>\n",
       "      <td>‘BIZARRE’ HILLARY CLINTON After Election Tells...</td>\n",
       "      <td>In a bizarre interview with Irish TV,  wacky g...</td>\n",
       "      <td>politics</td>\n",
       "      <td>Oct 8, 2022</td>\n",
       "      <td>Fake</td>\n",
       "      <td>NaN</td>\n",
       "      <td>NaN</td>\n",
       "      <td>NaN</td>\n",
       "      <td>NaN</td>\n",
       "      <td>NaN</td>\n",
       "      <td>...</td>\n",
       "      <td>NaN</td>\n",
       "      <td>NaN</td>\n",
       "      <td>NaN</td>\n",
       "      <td>NaN</td>\n",
       "      <td>NaN</td>\n",
       "      <td>NaN</td>\n",
       "      <td>NaN</td>\n",
       "      <td>NaN</td>\n",
       "      <td>NaN</td>\n",
       "      <td>NaN</td>\n",
       "    </tr>\n",
       "    <tr>\n",
       "      <th>33292</th>\n",
       "      <td>BREAKING NEWS: NFL Reporter Says Colin Kaepern...</td>\n",
       "      <td>NFL reporter Jason LaCanfora updated football ...</td>\n",
       "      <td>politics</td>\n",
       "      <td>Oct 8, 2022</td>\n",
       "      <td>Fake</td>\n",
       "      <td>NaN</td>\n",
       "      <td>NaN</td>\n",
       "      <td>NaN</td>\n",
       "      <td>NaN</td>\n",
       "      <td>NaN</td>\n",
       "      <td>...</td>\n",
       "      <td>NaN</td>\n",
       "      <td>NaN</td>\n",
       "      <td>NaN</td>\n",
       "      <td>NaN</td>\n",
       "      <td>NaN</td>\n",
       "      <td>NaN</td>\n",
       "      <td>NaN</td>\n",
       "      <td>NaN</td>\n",
       "      <td>NaN</td>\n",
       "      <td>NaN</td>\n",
       "    </tr>\n",
       "    <tr>\n",
       "      <th>33293</th>\n",
       "      <td>TRUMP BLASTS SENATE RINO ON TWITTER…Exposes RE...</td>\n",
       "      <td>President Trump just exposed one of the bigges...</td>\n",
       "      <td>politics</td>\n",
       "      <td>Oct 8, 2022</td>\n",
       "      <td>Fake</td>\n",
       "      <td>NaN</td>\n",
       "      <td>NaN</td>\n",
       "      <td>NaN</td>\n",
       "      <td>NaN</td>\n",
       "      <td>NaN</td>\n",
       "      <td>...</td>\n",
       "      <td>NaN</td>\n",
       "      <td>NaN</td>\n",
       "      <td>NaN</td>\n",
       "      <td>NaN</td>\n",
       "      <td>NaN</td>\n",
       "      <td>NaN</td>\n",
       "      <td>NaN</td>\n",
       "      <td>NaN</td>\n",
       "      <td>NaN</td>\n",
       "      <td>NaN</td>\n",
       "    </tr>\n",
       "    <tr>\n",
       "      <th>33294</th>\n",
       "      <td>BREAKING…VP PENCE and Wife Karen Abruptly Leav...</td>\n",
       "      <td>Mike Pence tweeted about how he was looking fo...</td>\n",
       "      <td>politics</td>\n",
       "      <td>Oct 8, 2022</td>\n",
       "      <td>Fake</td>\n",
       "      <td>NaN</td>\n",
       "      <td>NaN</td>\n",
       "      <td>NaN</td>\n",
       "      <td>NaN</td>\n",
       "      <td>NaN</td>\n",
       "      <td>...</td>\n",
       "      <td>NaN</td>\n",
       "      <td>NaN</td>\n",
       "      <td>NaN</td>\n",
       "      <td>NaN</td>\n",
       "      <td>NaN</td>\n",
       "      <td>NaN</td>\n",
       "      <td>NaN</td>\n",
       "      <td>NaN</td>\n",
       "      <td>NaN</td>\n",
       "      <td>NaN</td>\n",
       "    </tr>\n",
       "    <tr>\n",
       "      <th>33295</th>\n",
       "      <td>MAYORAL CANDIDATE In DIE-HARD DEMOCRAT City Ma...</td>\n",
       "      <td>If John Persinger wins the mayoral race in Eri...</td>\n",
       "      <td>politics</td>\n",
       "      <td>Oct 8, 2022</td>\n",
       "      <td>Fake</td>\n",
       "      <td>NaN</td>\n",
       "      <td>NaN</td>\n",
       "      <td>NaN</td>\n",
       "      <td>NaN</td>\n",
       "      <td>NaN</td>\n",
       "      <td>...</td>\n",
       "      <td>NaN</td>\n",
       "      <td>NaN</td>\n",
       "      <td>NaN</td>\n",
       "      <td>NaN</td>\n",
       "      <td>NaN</td>\n",
       "      <td>NaN</td>\n",
       "      <td>NaN</td>\n",
       "      <td>NaN</td>\n",
       "      <td>NaN</td>\n",
       "      <td>NaN</td>\n",
       "    </tr>\n",
       "  </tbody>\n",
       "</table>\n",
       "<p>5 rows × 172 columns</p>\n",
       "</div>"
      ],
      "text/plain": [
       "                                                   title  \\\n",
       "33291  ‘BIZARRE’ HILLARY CLINTON After Election Tells...   \n",
       "33292  BREAKING NEWS: NFL Reporter Says Colin Kaepern...   \n",
       "33293  TRUMP BLASTS SENATE RINO ON TWITTER…Exposes RE...   \n",
       "33294  BREAKING…VP PENCE and Wife Karen Abruptly Leav...   \n",
       "33295  MAYORAL CANDIDATE In DIE-HARD DEMOCRAT City Ma...   \n",
       "\n",
       "                                                    text   subject  \\\n",
       "33291  In a bizarre interview with Irish TV,  wacky g...  politics   \n",
       "33292  NFL reporter Jason LaCanfora updated football ...  politics   \n",
       "33293  President Trump just exposed one of the bigges...  politics   \n",
       "33294  Mike Pence tweeted about how he was looking fo...  politics   \n",
       "33295  If John Persinger wins the mayoral race in Eri...  politics   \n",
       "\n",
       "              date label Unnamed: 5 Unnamed: 6 Unnamed: 7 Unnamed: 8  \\\n",
       "33291  Oct 8, 2022  Fake        NaN        NaN        NaN        NaN   \n",
       "33292  Oct 8, 2022  Fake        NaN        NaN        NaN        NaN   \n",
       "33293  Oct 8, 2022  Fake        NaN        NaN        NaN        NaN   \n",
       "33294  Oct 8, 2022  Fake        NaN        NaN        NaN        NaN   \n",
       "33295  Oct 8, 2022  Fake        NaN        NaN        NaN        NaN   \n",
       "\n",
       "      Unnamed: 9  ... Unnamed: 162 Unnamed: 163 Unnamed: 164 Unnamed: 165  \\\n",
       "33291        NaN  ...          NaN          NaN          NaN          NaN   \n",
       "33292        NaN  ...          NaN          NaN          NaN          NaN   \n",
       "33293        NaN  ...          NaN          NaN          NaN          NaN   \n",
       "33294        NaN  ...          NaN          NaN          NaN          NaN   \n",
       "33295        NaN  ...          NaN          NaN          NaN          NaN   \n",
       "\n",
       "      Unnamed: 166 Unnamed: 167 Unnamed: 168 Unnamed: 169 Unnamed: 170  \\\n",
       "33291          NaN          NaN          NaN          NaN          NaN   \n",
       "33292          NaN          NaN          NaN          NaN          NaN   \n",
       "33293          NaN          NaN          NaN          NaN          NaN   \n",
       "33294          NaN          NaN          NaN          NaN          NaN   \n",
       "33295          NaN          NaN          NaN          NaN          NaN   \n",
       "\n",
       "      Unnamed: 171  \n",
       "33291          NaN  \n",
       "33292          NaN  \n",
       "33293          NaN  \n",
       "33294          NaN  \n",
       "33295          NaN  \n",
       "\n",
       "[5 rows x 172 columns]"
      ]
     },
     "execution_count": 6,
     "metadata": {},
     "output_type": "execute_result"
    }
   ],
   "source": [
    "fake_df.tail() #prints the last 5 rows"
   ]
  },
  {
   "cell_type": "code",
   "execution_count": 7,
   "id": "3001d68c",
   "metadata": {},
   "outputs": [
    {
     "data": {
      "text/plain": [
       "(30956, 5)"
      ]
     },
     "execution_count": 7,
     "metadata": {},
     "output_type": "execute_result"
    }
   ],
   "source": [
    "real_df.shape # Check the shape of the DataFrame"
   ]
  },
  {
   "cell_type": "code",
   "execution_count": 8,
   "id": "e4d3db9d",
   "metadata": {},
   "outputs": [
    {
     "data": {
      "text/plain": [
       "(33296, 172)"
      ]
     },
     "execution_count": 8,
     "metadata": {},
     "output_type": "execute_result"
    }
   ],
   "source": [
    "fake_df.shape # Check the shape of the DataFrame"
   ]
  },
  {
   "cell_type": "code",
   "execution_count": 9,
   "id": "c2c51cb3",
   "metadata": {},
   "outputs": [
    {
     "data": {
      "text/plain": [
       "Index(['title', 'text', 'subject', 'date', 'label'], dtype='object')"
      ]
     },
     "execution_count": 9,
     "metadata": {},
     "output_type": "execute_result"
    }
   ],
   "source": [
    "real_df.columns # Display the columns of the DataFrame"
   ]
  },
  {
   "cell_type": "code",
   "execution_count": 10,
   "id": "ffaddb8f",
   "metadata": {},
   "outputs": [
    {
     "data": {
      "text/plain": [
       "title      object\n",
       "text       object\n",
       "subject    object\n",
       "date       object\n",
       "label      object\n",
       "dtype: object"
      ]
     },
     "execution_count": 10,
     "metadata": {},
     "output_type": "execute_result"
    }
   ],
   "source": [
    "real_df.dtypes # Display the data types of columns in the DataFrame"
   ]
  },
  {
   "cell_type": "code",
   "execution_count": 11,
   "id": "cb53d8de",
   "metadata": {},
   "outputs": [
    {
     "data": {
      "text/plain": [
       "title           object\n",
       "text            object\n",
       "subject         object\n",
       "date            object\n",
       "label           object\n",
       "                 ...  \n",
       "Unnamed: 167    object\n",
       "Unnamed: 168    object\n",
       "Unnamed: 169    object\n",
       "Unnamed: 170    object\n",
       "Unnamed: 171    object\n",
       "Length: 172, dtype: object"
      ]
     },
     "execution_count": 11,
     "metadata": {},
     "output_type": "execute_result"
    }
   ],
   "source": [
    "fake_df.dtypes # Display the data types of columns in the DataFrame"
   ]
  },
  {
   "cell_type": "code",
   "execution_count": 12,
   "id": "fcec790e",
   "metadata": {},
   "outputs": [
    {
     "data": {
      "text/plain": [
       "Index(['title', 'text', 'subject', 'date', 'label', 'Unnamed: 5', 'Unnamed: 6',\n",
       "       'Unnamed: 7', 'Unnamed: 8', 'Unnamed: 9',\n",
       "       ...\n",
       "       'Unnamed: 162', 'Unnamed: 163', 'Unnamed: 164', 'Unnamed: 165',\n",
       "       'Unnamed: 166', 'Unnamed: 167', 'Unnamed: 168', 'Unnamed: 169',\n",
       "       'Unnamed: 170', 'Unnamed: 171'],\n",
       "      dtype='object', length=172)"
      ]
     },
     "execution_count": 12,
     "metadata": {},
     "output_type": "execute_result"
    }
   ],
   "source": [
    "fake_df.columns # Display the data types of columns in the DataFrame"
   ]
  },
  {
   "cell_type": "code",
   "execution_count": 13,
   "id": "5dfac9c9",
   "metadata": {},
   "outputs": [
    {
     "data": {
      "text/plain": [
       "Index(['title', 'text', 'subject', 'date', 'label'], dtype='object')"
      ]
     },
     "execution_count": 13,
     "metadata": {},
     "output_type": "execute_result"
    }
   ],
   "source": [
    "real_df.columns"
   ]
  },
  {
   "cell_type": "markdown",
   "id": "466834bb",
   "metadata": {},
   "source": [
    "# statistical analysis "
   ]
  },
  {
   "cell_type": "code",
   "execution_count": 14,
   "id": "da65247c",
   "metadata": {},
   "outputs": [
    {
     "data": {
      "text/html": [
       "<div>\n",
       "<style scoped>\n",
       "    .dataframe tbody tr th:only-of-type {\n",
       "        vertical-align: middle;\n",
       "    }\n",
       "\n",
       "    .dataframe tbody tr th {\n",
       "        vertical-align: top;\n",
       "    }\n",
       "\n",
       "    .dataframe thead th {\n",
       "        text-align: right;\n",
       "    }\n",
       "</style>\n",
       "<table border=\"1\" class=\"dataframe\">\n",
       "  <thead>\n",
       "    <tr style=\"text-align: right;\">\n",
       "      <th></th>\n",
       "      <th>title</th>\n",
       "      <th>text</th>\n",
       "      <th>subject</th>\n",
       "      <th>date</th>\n",
       "      <th>label</th>\n",
       "    </tr>\n",
       "  </thead>\n",
       "  <tbody>\n",
       "    <tr>\n",
       "      <th>count</th>\n",
       "      <td>30886</td>\n",
       "      <td>27741</td>\n",
       "      <td>30943</td>\n",
       "      <td>30931</td>\n",
       "      <td>29338</td>\n",
       "    </tr>\n",
       "    <tr>\n",
       "      <th>unique</th>\n",
       "      <td>20758</td>\n",
       "      <td>18101</td>\n",
       "      <td>2</td>\n",
       "      <td>366</td>\n",
       "      <td>1</td>\n",
       "    </tr>\n",
       "    <tr>\n",
       "      <th>top</th>\n",
       "      <td>Factbox: Trump fills top jobs for his administ...</td>\n",
       "      <td>(Reuters) - Highlights for U.S. President Dona...</td>\n",
       "      <td>politicsNews</td>\n",
       "      <td>November 9, 2022</td>\n",
       "      <td>Real</td>\n",
       "    </tr>\n",
       "    <tr>\n",
       "      <th>freq</th>\n",
       "      <td>28</td>\n",
       "      <td>22</td>\n",
       "      <td>20811</td>\n",
       "      <td>316</td>\n",
       "      <td>29338</td>\n",
       "    </tr>\n",
       "  </tbody>\n",
       "</table>\n",
       "</div>"
      ],
      "text/plain": [
       "                                                    title  \\\n",
       "count                                               30886   \n",
       "unique                                              20758   \n",
       "top     Factbox: Trump fills top jobs for his administ...   \n",
       "freq                                                   28   \n",
       "\n",
       "                                                     text       subject  \\\n",
       "count                                               27741         30943   \n",
       "unique                                              18101             2   \n",
       "top     (Reuters) - Highlights for U.S. President Dona...  politicsNews   \n",
       "freq                                                   22         20811   \n",
       "\n",
       "                     date  label  \n",
       "count               30931  29338  \n",
       "unique                366      1  \n",
       "top     November 9, 2022    Real  \n",
       "freq                  316  29338  "
      ]
     },
     "execution_count": 14,
     "metadata": {},
     "output_type": "execute_result"
    }
   ],
   "source": [
    "real_df.describe()"
   ]
  },
  {
   "cell_type": "code",
   "execution_count": 15,
   "id": "d560063d",
   "metadata": {},
   "outputs": [
    {
     "data": {
      "text/html": [
       "<div>\n",
       "<style scoped>\n",
       "    .dataframe tbody tr th:only-of-type {\n",
       "        vertical-align: middle;\n",
       "    }\n",
       "\n",
       "    .dataframe tbody tr th {\n",
       "        vertical-align: top;\n",
       "    }\n",
       "\n",
       "    .dataframe thead th {\n",
       "        text-align: right;\n",
       "    }\n",
       "</style>\n",
       "<table border=\"1\" class=\"dataframe\">\n",
       "  <thead>\n",
       "    <tr style=\"text-align: right;\">\n",
       "      <th></th>\n",
       "      <th>title</th>\n",
       "      <th>text</th>\n",
       "      <th>subject</th>\n",
       "      <th>date</th>\n",
       "      <th>label</th>\n",
       "      <th>Unnamed: 5</th>\n",
       "      <th>Unnamed: 6</th>\n",
       "      <th>Unnamed: 7</th>\n",
       "      <th>Unnamed: 8</th>\n",
       "      <th>Unnamed: 9</th>\n",
       "      <th>...</th>\n",
       "      <th>Unnamed: 162</th>\n",
       "      <th>Unnamed: 163</th>\n",
       "      <th>Unnamed: 164</th>\n",
       "      <th>Unnamed: 165</th>\n",
       "      <th>Unnamed: 166</th>\n",
       "      <th>Unnamed: 167</th>\n",
       "      <th>Unnamed: 168</th>\n",
       "      <th>Unnamed: 169</th>\n",
       "      <th>Unnamed: 170</th>\n",
       "      <th>Unnamed: 171</th>\n",
       "    </tr>\n",
       "  </thead>\n",
       "  <tbody>\n",
       "    <tr>\n",
       "      <th>count</th>\n",
       "      <td>33233</td>\n",
       "      <td>31745</td>\n",
       "      <td>33212</td>\n",
       "      <td>33233</td>\n",
       "      <td>26423</td>\n",
       "      <td>20</td>\n",
       "      <td>20</td>\n",
       "      <td>20</td>\n",
       "      <td>18</td>\n",
       "      <td>18</td>\n",
       "      <td>...</td>\n",
       "      <td>2</td>\n",
       "      <td>2</td>\n",
       "      <td>2</td>\n",
       "      <td>2</td>\n",
       "      <td>2</td>\n",
       "      <td>2</td>\n",
       "      <td>2</td>\n",
       "      <td>2</td>\n",
       "      <td>2</td>\n",
       "      <td>2</td>\n",
       "    </tr>\n",
       "    <tr>\n",
       "      <th>unique</th>\n",
       "      <td>17915</td>\n",
       "      <td>17466</td>\n",
       "      <td>17</td>\n",
       "      <td>998</td>\n",
       "      <td>1</td>\n",
       "      <td>10</td>\n",
       "      <td>11</td>\n",
       "      <td>10</td>\n",
       "      <td>9</td>\n",
       "      <td>9</td>\n",
       "      <td>...</td>\n",
       "      <td>1</td>\n",
       "      <td>1</td>\n",
       "      <td>1</td>\n",
       "      <td>1</td>\n",
       "      <td>1</td>\n",
       "      <td>1</td>\n",
       "      <td>1</td>\n",
       "      <td>1</td>\n",
       "      <td>2</td>\n",
       "      <td>1</td>\n",
       "    </tr>\n",
       "    <tr>\n",
       "      <th>top</th>\n",
       "      <td>MEDIA IGNORES Time That Bill Clinton FIRED His...</td>\n",
       "      <td></td>\n",
       "      <td>News</td>\n",
       "      <td>May 12, 2022</td>\n",
       "      <td>Fake</td>\n",
       "      <td>lowered educational standards to accommodate ...</td>\n",
       "      <td>and voting rights for criminals. In MALDEF s ...</td>\n",
       "      <td>supporters of making English the official lan...</td>\n",
       "      <td>while advocates of sanctions against employe...</td>\n",
       "      <td>Suozzi</td>\n",
       "      <td>...</td>\n",
       "      <td>is that it would be very easy for an agent pr...</td>\n",
       "      <td>and it s certain that the powers that be will...</td>\n",
       "      <td>it s important to separate the fallout from t...</td>\n",
       "      <td>as those in mainstream media such as The New ...</td>\n",
       "      <td>The Washington Post and the self-anointed  fa...</td>\n",
       "      <td>seem to have propped up this pizzeria conspir...</td>\n",
       "      <td>but for the moment</td>\n",
       "      <td>it seems to have collapsed under the weight o...</td>\n",
       "      <td>US_News</td>\n",
       "      <td>December 28, 2022</td>\n",
       "    </tr>\n",
       "    <tr>\n",
       "      <th>freq</th>\n",
       "      <td>6</td>\n",
       "      <td>626</td>\n",
       "      <td>18100</td>\n",
       "      <td>122</td>\n",
       "      <td>26423</td>\n",
       "      <td>2</td>\n",
       "      <td>2</td>\n",
       "      <td>2</td>\n",
       "      <td>2</td>\n",
       "      <td>2</td>\n",
       "      <td>...</td>\n",
       "      <td>2</td>\n",
       "      <td>2</td>\n",
       "      <td>2</td>\n",
       "      <td>2</td>\n",
       "      <td>2</td>\n",
       "      <td>2</td>\n",
       "      <td>2</td>\n",
       "      <td>2</td>\n",
       "      <td>1</td>\n",
       "      <td>2</td>\n",
       "    </tr>\n",
       "  </tbody>\n",
       "</table>\n",
       "<p>4 rows × 172 columns</p>\n",
       "</div>"
      ],
      "text/plain": [
       "                                                    title   text subject  \\\n",
       "count                                               33233  31745   33212   \n",
       "unique                                              17915  17466      17   \n",
       "top     MEDIA IGNORES Time That Bill Clinton FIRED His...           News   \n",
       "freq                                                    6    626   18100   \n",
       "\n",
       "                date  label  \\\n",
       "count          33233  26423   \n",
       "unique           998      1   \n",
       "top     May 12, 2022   Fake   \n",
       "freq             122  26423   \n",
       "\n",
       "                                               Unnamed: 5  \\\n",
       "count                                                  20   \n",
       "unique                                                 10   \n",
       "top      lowered educational standards to accommodate ...   \n",
       "freq                                                    2   \n",
       "\n",
       "                                               Unnamed: 6  \\\n",
       "count                                                  20   \n",
       "unique                                                 11   \n",
       "top      and voting rights for criminals. In MALDEF s ...   \n",
       "freq                                                    2   \n",
       "\n",
       "                                               Unnamed: 7  \\\n",
       "count                                                  20   \n",
       "unique                                                 10   \n",
       "top      supporters of making English the official lan...   \n",
       "freq                                                    2   \n",
       "\n",
       "                                               Unnamed: 8 Unnamed: 9  ...  \\\n",
       "count                                                  18         18  ...   \n",
       "unique                                                  9          9  ...   \n",
       "top       while advocates of sanctions against employe...     Suozzi  ...   \n",
       "freq                                                    2          2  ...   \n",
       "\n",
       "                                             Unnamed: 162  \\\n",
       "count                                                   2   \n",
       "unique                                                  1   \n",
       "top      is that it would be very easy for an agent pr...   \n",
       "freq                                                    2   \n",
       "\n",
       "                                             Unnamed: 163  \\\n",
       "count                                                   2   \n",
       "unique                                                  1   \n",
       "top      and it s certain that the powers that be will...   \n",
       "freq                                                    2   \n",
       "\n",
       "                                             Unnamed: 164  \\\n",
       "count                                                   2   \n",
       "unique                                                  1   \n",
       "top      it s important to separate the fallout from t...   \n",
       "freq                                                    2   \n",
       "\n",
       "                                             Unnamed: 165  \\\n",
       "count                                                   2   \n",
       "unique                                                  1   \n",
       "top      as those in mainstream media such as The New ...   \n",
       "freq                                                    2   \n",
       "\n",
       "                                             Unnamed: 166  \\\n",
       "count                                                   2   \n",
       "unique                                                  1   \n",
       "top      The Washington Post and the self-anointed  fa...   \n",
       "freq                                                    2   \n",
       "\n",
       "                                             Unnamed: 167  \\\n",
       "count                                                   2   \n",
       "unique                                                  1   \n",
       "top      seem to have propped up this pizzeria conspir...   \n",
       "freq                                                    2   \n",
       "\n",
       "               Unnamed: 168  \\\n",
       "count                     2   \n",
       "unique                    1   \n",
       "top      but for the moment   \n",
       "freq                      2   \n",
       "\n",
       "                                             Unnamed: 169 Unnamed: 170  \\\n",
       "count                                                   2            2   \n",
       "unique                                                  1            2   \n",
       "top      it seems to have collapsed under the weight o...      US_News   \n",
       "freq                                                    2            1   \n",
       "\n",
       "             Unnamed: 171  \n",
       "count                   2  \n",
       "unique                  1  \n",
       "top     December 28, 2022  \n",
       "freq                    2  \n",
       "\n",
       "[4 rows x 172 columns]"
      ]
     },
     "execution_count": 15,
     "metadata": {},
     "output_type": "execute_result"
    }
   ],
   "source": [
    "fake_df.describe()"
   ]
  },
  {
   "cell_type": "markdown",
   "id": "375155a5",
   "metadata": {},
   "source": [
    "# Cleaning The Data And Data Visualization"
   ]
  },
  {
   "cell_type": "code",
   "execution_count": 16,
   "id": "0eaacd7d",
   "metadata": {},
   "outputs": [
    {
     "data": {
      "text/html": [
       "<div>\n",
       "<style scoped>\n",
       "    .dataframe tbody tr th:only-of-type {\n",
       "        vertical-align: middle;\n",
       "    }\n",
       "\n",
       "    .dataframe tbody tr th {\n",
       "        vertical-align: top;\n",
       "    }\n",
       "\n",
       "    .dataframe thead th {\n",
       "        text-align: right;\n",
       "    }\n",
       "</style>\n",
       "<table border=\"1\" class=\"dataframe\">\n",
       "  <thead>\n",
       "    <tr style=\"text-align: right;\">\n",
       "      <th></th>\n",
       "      <th>title</th>\n",
       "      <th>text</th>\n",
       "      <th>subject</th>\n",
       "      <th>date</th>\n",
       "      <th>label</th>\n",
       "    </tr>\n",
       "  </thead>\n",
       "  <tbody>\n",
       "    <tr>\n",
       "      <th>0</th>\n",
       "      <td>False</td>\n",
       "      <td>False</td>\n",
       "      <td>False</td>\n",
       "      <td>False</td>\n",
       "      <td>False</td>\n",
       "    </tr>\n",
       "    <tr>\n",
       "      <th>1</th>\n",
       "      <td>False</td>\n",
       "      <td>False</td>\n",
       "      <td>False</td>\n",
       "      <td>False</td>\n",
       "      <td>False</td>\n",
       "    </tr>\n",
       "    <tr>\n",
       "      <th>2</th>\n",
       "      <td>False</td>\n",
       "      <td>False</td>\n",
       "      <td>False</td>\n",
       "      <td>False</td>\n",
       "      <td>False</td>\n",
       "    </tr>\n",
       "    <tr>\n",
       "      <th>3</th>\n",
       "      <td>False</td>\n",
       "      <td>False</td>\n",
       "      <td>False</td>\n",
       "      <td>False</td>\n",
       "      <td>False</td>\n",
       "    </tr>\n",
       "    <tr>\n",
       "      <th>4</th>\n",
       "      <td>False</td>\n",
       "      <td>False</td>\n",
       "      <td>False</td>\n",
       "      <td>False</td>\n",
       "      <td>False</td>\n",
       "    </tr>\n",
       "    <tr>\n",
       "      <th>...</th>\n",
       "      <td>...</td>\n",
       "      <td>...</td>\n",
       "      <td>...</td>\n",
       "      <td>...</td>\n",
       "      <td>...</td>\n",
       "    </tr>\n",
       "    <tr>\n",
       "      <th>30951</th>\n",
       "      <td>False</td>\n",
       "      <td>False</td>\n",
       "      <td>False</td>\n",
       "      <td>False</td>\n",
       "      <td>False</td>\n",
       "    </tr>\n",
       "    <tr>\n",
       "      <th>30952</th>\n",
       "      <td>False</td>\n",
       "      <td>False</td>\n",
       "      <td>False</td>\n",
       "      <td>False</td>\n",
       "      <td>False</td>\n",
       "    </tr>\n",
       "    <tr>\n",
       "      <th>30953</th>\n",
       "      <td>False</td>\n",
       "      <td>False</td>\n",
       "      <td>False</td>\n",
       "      <td>False</td>\n",
       "      <td>False</td>\n",
       "    </tr>\n",
       "    <tr>\n",
       "      <th>30954</th>\n",
       "      <td>False</td>\n",
       "      <td>False</td>\n",
       "      <td>False</td>\n",
       "      <td>False</td>\n",
       "      <td>False</td>\n",
       "    </tr>\n",
       "    <tr>\n",
       "      <th>30955</th>\n",
       "      <td>False</td>\n",
       "      <td>False</td>\n",
       "      <td>False</td>\n",
       "      <td>False</td>\n",
       "      <td>False</td>\n",
       "    </tr>\n",
       "  </tbody>\n",
       "</table>\n",
       "<p>30956 rows × 5 columns</p>\n",
       "</div>"
      ],
      "text/plain": [
       "       title   text  subject   date  label\n",
       "0      False  False    False  False  False\n",
       "1      False  False    False  False  False\n",
       "2      False  False    False  False  False\n",
       "3      False  False    False  False  False\n",
       "4      False  False    False  False  False\n",
       "...      ...    ...      ...    ...    ...\n",
       "30951  False  False    False  False  False\n",
       "30952  False  False    False  False  False\n",
       "30953  False  False    False  False  False\n",
       "30954  False  False    False  False  False\n",
       "30955  False  False    False  False  False\n",
       "\n",
       "[30956 rows x 5 columns]"
      ]
     },
     "execution_count": 16,
     "metadata": {},
     "output_type": "execute_result"
    }
   ],
   "source": [
    "real_df.isna()"
   ]
  },
  {
   "cell_type": "code",
   "execution_count": 17,
   "id": "9f587f1b",
   "metadata": {},
   "outputs": [
    {
     "data": {
      "text/html": [
       "<div>\n",
       "<style scoped>\n",
       "    .dataframe tbody tr th:only-of-type {\n",
       "        vertical-align: middle;\n",
       "    }\n",
       "\n",
       "    .dataframe tbody tr th {\n",
       "        vertical-align: top;\n",
       "    }\n",
       "\n",
       "    .dataframe thead th {\n",
       "        text-align: right;\n",
       "    }\n",
       "</style>\n",
       "<table border=\"1\" class=\"dataframe\">\n",
       "  <thead>\n",
       "    <tr style=\"text-align: right;\">\n",
       "      <th></th>\n",
       "      <th>title</th>\n",
       "      <th>text</th>\n",
       "      <th>subject</th>\n",
       "      <th>date</th>\n",
       "      <th>label</th>\n",
       "      <th>Unnamed: 5</th>\n",
       "      <th>Unnamed: 6</th>\n",
       "      <th>Unnamed: 7</th>\n",
       "      <th>Unnamed: 8</th>\n",
       "      <th>Unnamed: 9</th>\n",
       "      <th>...</th>\n",
       "      <th>Unnamed: 162</th>\n",
       "      <th>Unnamed: 163</th>\n",
       "      <th>Unnamed: 164</th>\n",
       "      <th>Unnamed: 165</th>\n",
       "      <th>Unnamed: 166</th>\n",
       "      <th>Unnamed: 167</th>\n",
       "      <th>Unnamed: 168</th>\n",
       "      <th>Unnamed: 169</th>\n",
       "      <th>Unnamed: 170</th>\n",
       "      <th>Unnamed: 171</th>\n",
       "    </tr>\n",
       "  </thead>\n",
       "  <tbody>\n",
       "    <tr>\n",
       "      <th>0</th>\n",
       "      <td>False</td>\n",
       "      <td>False</td>\n",
       "      <td>False</td>\n",
       "      <td>False</td>\n",
       "      <td>False</td>\n",
       "      <td>True</td>\n",
       "      <td>True</td>\n",
       "      <td>True</td>\n",
       "      <td>True</td>\n",
       "      <td>True</td>\n",
       "      <td>...</td>\n",
       "      <td>True</td>\n",
       "      <td>True</td>\n",
       "      <td>True</td>\n",
       "      <td>True</td>\n",
       "      <td>True</td>\n",
       "      <td>True</td>\n",
       "      <td>True</td>\n",
       "      <td>True</td>\n",
       "      <td>True</td>\n",
       "      <td>True</td>\n",
       "    </tr>\n",
       "    <tr>\n",
       "      <th>1</th>\n",
       "      <td>False</td>\n",
       "      <td>False</td>\n",
       "      <td>False</td>\n",
       "      <td>False</td>\n",
       "      <td>False</td>\n",
       "      <td>True</td>\n",
       "      <td>True</td>\n",
       "      <td>True</td>\n",
       "      <td>True</td>\n",
       "      <td>True</td>\n",
       "      <td>...</td>\n",
       "      <td>True</td>\n",
       "      <td>True</td>\n",
       "      <td>True</td>\n",
       "      <td>True</td>\n",
       "      <td>True</td>\n",
       "      <td>True</td>\n",
       "      <td>True</td>\n",
       "      <td>True</td>\n",
       "      <td>True</td>\n",
       "      <td>True</td>\n",
       "    </tr>\n",
       "    <tr>\n",
       "      <th>2</th>\n",
       "      <td>False</td>\n",
       "      <td>False</td>\n",
       "      <td>False</td>\n",
       "      <td>False</td>\n",
       "      <td>False</td>\n",
       "      <td>True</td>\n",
       "      <td>True</td>\n",
       "      <td>True</td>\n",
       "      <td>True</td>\n",
       "      <td>True</td>\n",
       "      <td>...</td>\n",
       "      <td>True</td>\n",
       "      <td>True</td>\n",
       "      <td>True</td>\n",
       "      <td>True</td>\n",
       "      <td>True</td>\n",
       "      <td>True</td>\n",
       "      <td>True</td>\n",
       "      <td>True</td>\n",
       "      <td>True</td>\n",
       "      <td>True</td>\n",
       "    </tr>\n",
       "    <tr>\n",
       "      <th>3</th>\n",
       "      <td>False</td>\n",
       "      <td>False</td>\n",
       "      <td>False</td>\n",
       "      <td>False</td>\n",
       "      <td>False</td>\n",
       "      <td>True</td>\n",
       "      <td>True</td>\n",
       "      <td>True</td>\n",
       "      <td>True</td>\n",
       "      <td>True</td>\n",
       "      <td>...</td>\n",
       "      <td>True</td>\n",
       "      <td>True</td>\n",
       "      <td>True</td>\n",
       "      <td>True</td>\n",
       "      <td>True</td>\n",
       "      <td>True</td>\n",
       "      <td>True</td>\n",
       "      <td>True</td>\n",
       "      <td>True</td>\n",
       "      <td>True</td>\n",
       "    </tr>\n",
       "    <tr>\n",
       "      <th>4</th>\n",
       "      <td>False</td>\n",
       "      <td>False</td>\n",
       "      <td>False</td>\n",
       "      <td>False</td>\n",
       "      <td>False</td>\n",
       "      <td>True</td>\n",
       "      <td>True</td>\n",
       "      <td>True</td>\n",
       "      <td>True</td>\n",
       "      <td>True</td>\n",
       "      <td>...</td>\n",
       "      <td>True</td>\n",
       "      <td>True</td>\n",
       "      <td>True</td>\n",
       "      <td>True</td>\n",
       "      <td>True</td>\n",
       "      <td>True</td>\n",
       "      <td>True</td>\n",
       "      <td>True</td>\n",
       "      <td>True</td>\n",
       "      <td>True</td>\n",
       "    </tr>\n",
       "    <tr>\n",
       "      <th>...</th>\n",
       "      <td>...</td>\n",
       "      <td>...</td>\n",
       "      <td>...</td>\n",
       "      <td>...</td>\n",
       "      <td>...</td>\n",
       "      <td>...</td>\n",
       "      <td>...</td>\n",
       "      <td>...</td>\n",
       "      <td>...</td>\n",
       "      <td>...</td>\n",
       "      <td>...</td>\n",
       "      <td>...</td>\n",
       "      <td>...</td>\n",
       "      <td>...</td>\n",
       "      <td>...</td>\n",
       "      <td>...</td>\n",
       "      <td>...</td>\n",
       "      <td>...</td>\n",
       "      <td>...</td>\n",
       "      <td>...</td>\n",
       "      <td>...</td>\n",
       "    </tr>\n",
       "    <tr>\n",
       "      <th>33291</th>\n",
       "      <td>False</td>\n",
       "      <td>False</td>\n",
       "      <td>False</td>\n",
       "      <td>False</td>\n",
       "      <td>False</td>\n",
       "      <td>True</td>\n",
       "      <td>True</td>\n",
       "      <td>True</td>\n",
       "      <td>True</td>\n",
       "      <td>True</td>\n",
       "      <td>...</td>\n",
       "      <td>True</td>\n",
       "      <td>True</td>\n",
       "      <td>True</td>\n",
       "      <td>True</td>\n",
       "      <td>True</td>\n",
       "      <td>True</td>\n",
       "      <td>True</td>\n",
       "      <td>True</td>\n",
       "      <td>True</td>\n",
       "      <td>True</td>\n",
       "    </tr>\n",
       "    <tr>\n",
       "      <th>33292</th>\n",
       "      <td>False</td>\n",
       "      <td>False</td>\n",
       "      <td>False</td>\n",
       "      <td>False</td>\n",
       "      <td>False</td>\n",
       "      <td>True</td>\n",
       "      <td>True</td>\n",
       "      <td>True</td>\n",
       "      <td>True</td>\n",
       "      <td>True</td>\n",
       "      <td>...</td>\n",
       "      <td>True</td>\n",
       "      <td>True</td>\n",
       "      <td>True</td>\n",
       "      <td>True</td>\n",
       "      <td>True</td>\n",
       "      <td>True</td>\n",
       "      <td>True</td>\n",
       "      <td>True</td>\n",
       "      <td>True</td>\n",
       "      <td>True</td>\n",
       "    </tr>\n",
       "    <tr>\n",
       "      <th>33293</th>\n",
       "      <td>False</td>\n",
       "      <td>False</td>\n",
       "      <td>False</td>\n",
       "      <td>False</td>\n",
       "      <td>False</td>\n",
       "      <td>True</td>\n",
       "      <td>True</td>\n",
       "      <td>True</td>\n",
       "      <td>True</td>\n",
       "      <td>True</td>\n",
       "      <td>...</td>\n",
       "      <td>True</td>\n",
       "      <td>True</td>\n",
       "      <td>True</td>\n",
       "      <td>True</td>\n",
       "      <td>True</td>\n",
       "      <td>True</td>\n",
       "      <td>True</td>\n",
       "      <td>True</td>\n",
       "      <td>True</td>\n",
       "      <td>True</td>\n",
       "    </tr>\n",
       "    <tr>\n",
       "      <th>33294</th>\n",
       "      <td>False</td>\n",
       "      <td>False</td>\n",
       "      <td>False</td>\n",
       "      <td>False</td>\n",
       "      <td>False</td>\n",
       "      <td>True</td>\n",
       "      <td>True</td>\n",
       "      <td>True</td>\n",
       "      <td>True</td>\n",
       "      <td>True</td>\n",
       "      <td>...</td>\n",
       "      <td>True</td>\n",
       "      <td>True</td>\n",
       "      <td>True</td>\n",
       "      <td>True</td>\n",
       "      <td>True</td>\n",
       "      <td>True</td>\n",
       "      <td>True</td>\n",
       "      <td>True</td>\n",
       "      <td>True</td>\n",
       "      <td>True</td>\n",
       "    </tr>\n",
       "    <tr>\n",
       "      <th>33295</th>\n",
       "      <td>False</td>\n",
       "      <td>False</td>\n",
       "      <td>False</td>\n",
       "      <td>False</td>\n",
       "      <td>False</td>\n",
       "      <td>True</td>\n",
       "      <td>True</td>\n",
       "      <td>True</td>\n",
       "      <td>True</td>\n",
       "      <td>True</td>\n",
       "      <td>...</td>\n",
       "      <td>True</td>\n",
       "      <td>True</td>\n",
       "      <td>True</td>\n",
       "      <td>True</td>\n",
       "      <td>True</td>\n",
       "      <td>True</td>\n",
       "      <td>True</td>\n",
       "      <td>True</td>\n",
       "      <td>True</td>\n",
       "      <td>True</td>\n",
       "    </tr>\n",
       "  </tbody>\n",
       "</table>\n",
       "<p>33296 rows × 172 columns</p>\n",
       "</div>"
      ],
      "text/plain": [
       "       title   text  subject   date  label  Unnamed: 5  Unnamed: 6  \\\n",
       "0      False  False    False  False  False        True        True   \n",
       "1      False  False    False  False  False        True        True   \n",
       "2      False  False    False  False  False        True        True   \n",
       "3      False  False    False  False  False        True        True   \n",
       "4      False  False    False  False  False        True        True   \n",
       "...      ...    ...      ...    ...    ...         ...         ...   \n",
       "33291  False  False    False  False  False        True        True   \n",
       "33292  False  False    False  False  False        True        True   \n",
       "33293  False  False    False  False  False        True        True   \n",
       "33294  False  False    False  False  False        True        True   \n",
       "33295  False  False    False  False  False        True        True   \n",
       "\n",
       "       Unnamed: 7  Unnamed: 8  Unnamed: 9  ...  Unnamed: 162  Unnamed: 163  \\\n",
       "0            True        True        True  ...          True          True   \n",
       "1            True        True        True  ...          True          True   \n",
       "2            True        True        True  ...          True          True   \n",
       "3            True        True        True  ...          True          True   \n",
       "4            True        True        True  ...          True          True   \n",
       "...           ...         ...         ...  ...           ...           ...   \n",
       "33291        True        True        True  ...          True          True   \n",
       "33292        True        True        True  ...          True          True   \n",
       "33293        True        True        True  ...          True          True   \n",
       "33294        True        True        True  ...          True          True   \n",
       "33295        True        True        True  ...          True          True   \n",
       "\n",
       "       Unnamed: 164  Unnamed: 165  Unnamed: 166  Unnamed: 167  Unnamed: 168  \\\n",
       "0              True          True          True          True          True   \n",
       "1              True          True          True          True          True   \n",
       "2              True          True          True          True          True   \n",
       "3              True          True          True          True          True   \n",
       "4              True          True          True          True          True   \n",
       "...             ...           ...           ...           ...           ...   \n",
       "33291          True          True          True          True          True   \n",
       "33292          True          True          True          True          True   \n",
       "33293          True          True          True          True          True   \n",
       "33294          True          True          True          True          True   \n",
       "33295          True          True          True          True          True   \n",
       "\n",
       "       Unnamed: 169  Unnamed: 170  Unnamed: 171  \n",
       "0              True          True          True  \n",
       "1              True          True          True  \n",
       "2              True          True          True  \n",
       "3              True          True          True  \n",
       "4              True          True          True  \n",
       "...             ...           ...           ...  \n",
       "33291          True          True          True  \n",
       "33292          True          True          True  \n",
       "33293          True          True          True  \n",
       "33294          True          True          True  \n",
       "33295          True          True          True  \n",
       "\n",
       "[33296 rows x 172 columns]"
      ]
     },
     "execution_count": 17,
     "metadata": {},
     "output_type": "execute_result"
    }
   ],
   "source": [
    "fake_df.isna()"
   ]
  },
  {
   "cell_type": "code",
   "execution_count": 18,
   "id": "4cee5141",
   "metadata": {},
   "outputs": [
    {
     "name": "stdout",
     "output_type": "stream",
     "text": [
      "Sum of missing values in each column:\n",
      "title        70\n",
      "text       3215\n",
      "subject      13\n",
      "date         25\n",
      "label      1618\n",
      "dtype: int64\n"
     ]
    }
   ],
   "source": [
    "missing_values_sum = real_df.isna().sum()\n",
    "\n",
    "print(\"Sum of missing values in each column:\")\n",
    "print(missing_values_sum)"
   ]
  },
  {
   "cell_type": "code",
   "execution_count": 19,
   "id": "aaa62569",
   "metadata": {},
   "outputs": [
    {
     "name": "stdout",
     "output_type": "stream",
     "text": [
      "Total number of missing values in the DataFrame: 4941\n"
     ]
    }
   ],
   "source": [
    "total_missing_values = missing_values_sum.sum()\n",
    "print(\"Total number of missing values in the DataFrame:\", total_missing_values)\n"
   ]
  },
  {
   "cell_type": "code",
   "execution_count": 20,
   "id": "4492876f",
   "metadata": {},
   "outputs": [
    {
     "name": "stdout",
     "output_type": "stream",
     "text": [
      "Sum of missing values in each column:\n",
      "title              63\n",
      "text             1551\n",
      "subject            84\n",
      "date               63\n",
      "label            6873\n",
      "                ...  \n",
      "Unnamed: 167    33294\n",
      "Unnamed: 168    33294\n",
      "Unnamed: 169    33294\n",
      "Unnamed: 170    33294\n",
      "Unnamed: 171    33294\n",
      "Length: 172, dtype: int64\n"
     ]
    }
   ],
   "source": [
    "missing_values_summ = fake_df.isna().sum()\n",
    "\n",
    "print(\"Sum of missing values in each column:\")\n",
    "print(missing_values_summ)"
   ]
  },
  {
   "cell_type": "code",
   "execution_count": 21,
   "id": "f24d8c80",
   "metadata": {},
   "outputs": [
    {
     "name": "stdout",
     "output_type": "stream",
     "text": [
      "Total number of missing values in the DataFrame: 5567594\n"
     ]
    }
   ],
   "source": [
    "total_missing_values_fake = missing_values_summ.sum()\n",
    "print(\"Total number of missing values in the DataFrame:\", total_missing_values_fake)"
   ]
  },
  {
   "cell_type": "code",
   "execution_count": 22,
   "id": "a66da6cf",
   "metadata": {},
   "outputs": [
    {
     "name": "stdout",
     "output_type": "stream",
     "text": [
      "Duplicate Rows except first occurrence based on all columns:\n",
      "                                                   title  \\\n",
      "445    Senate tax bill stalls on deficit-focused 'tri...   \n",
      "778    Trump warns 'rogue regime' North Korea of grav...   \n",
      "892    Republicans unveil tax cut bill, but the hard ...   \n",
      "896    Trump taps Fed centrist Powell to lead U.S. ce...   \n",
      "974    Two ex-Trump aides charged in Russia probe, th...   \n",
      "...                                                  ...   \n",
      "30951  Trump sinks Asia trade pact, opening the way f...   \n",
      "30952  Chinese official optimistic about US trade ami...   \n",
      "30953  Italy to push Iran trade ties, undaunted by Trump   \n",
      "30954        Obama's not-so-secret admirer: Donald Trump   \n",
      "30955  Peru proposes talks to save TPP after Trump fi...   \n",
      "\n",
      "                                                    text       subject  \\\n",
      "445    WASHINGTON (Reuters) - The U.S. Senate on Thur...  politicsNews   \n",
      "778    BEIJING (Reuters) - U.S. President Donald Trum...  politicsNews   \n",
      "892    WASHINGTON (Reuters) - U.S. House of Represent...  politicsNews   \n",
      "896    WASHINGTON (Reuters) - President Donald Trump ...  politicsNews   \n",
      "974    WASHINGTON (Reuters) - Federal investigators p...  politicsNews   \n",
      "...                                                  ...           ...   \n",
      "30951  TOKYO/SYDNEY (Reuters) - An ambitious Asia-Pac...  politicsNews   \n",
      "30952  WASHINGTON (Reuters) - Chinese Vice Premier Wa...  politicsNews   \n",
      "30953  ROME (Reuters) - Italy’s industry minister ple...  politicsNews   \n",
      "30954  WASHINGTON (Reuters) - President Barack Obama ...  politicsNews   \n",
      "30955  LIMA (Reuters) - Peru proposed new talks to en...  politicsNews   \n",
      "\n",
      "                     date label  \n",
      "445    November 30, 2022   Real  \n",
      "778     November 8, 2022   Real  \n",
      "892     November 2, 2022   Real  \n",
      "896     November 2, 2022   Real  \n",
      "974     October 30, 2022   Real  \n",
      "...                   ...   ...  \n",
      "30951  November 22, 2022   Real  \n",
      "30952  November 22, 2022   Real  \n",
      "30953  November 22, 2022   Real  \n",
      "30954  November 22, 2022   Real  \n",
      "30955  November 22, 2022   Real  \n",
      "\n",
      "[9762 rows x 5 columns]\n"
     ]
    }
   ],
   "source": [
    "duplicate_rows = real_df[real_df.duplicated()]\n",
    "\n",
    "print(\"Duplicate Rows except first occurrence based on all columns:\")\n",
    "print(duplicate_rows)"
   ]
  },
  {
   "cell_type": "code",
   "execution_count": 23,
   "id": "7ddf6332",
   "metadata": {},
   "outputs": [
    {
     "name": "stdout",
     "output_type": "stream",
     "text": [
      "Duplicate Rows except first occurrence based on all columns:\n",
      "                                                   title  \\\n",
      "9733                                                 NaN   \n",
      "9946   HILLARY TWEETS MESSAGE In Defense Of DACA…OOPS...   \n",
      "11450  FORMER DEMOCRAT WARNS Young Americans: “Rioter...   \n",
      "12411                                                NaN   \n",
      "12412                                                NaN   \n",
      "...                                                  ...   \n",
      "33291  ‘BIZARRE’ HILLARY CLINTON After Election Tells...   \n",
      "33292  BREAKING NEWS: NFL Reporter Says Colin Kaepern...   \n",
      "33293  TRUMP BLASTS SENATE RINO ON TWITTER…Exposes RE...   \n",
      "33294  BREAKING…VP PENCE and Wife Karen Abruptly Leav...   \n",
      "33295  MAYORAL CANDIDATE In DIE-HARD DEMOCRAT City Ma...   \n",
      "\n",
      "                                                    text   subject  \\\n",
      "9733                                                 NaN       NaN   \n",
      "9946   No time to waste   we've got to fight with eve...  politics   \n",
      "11450   Who is silencing political speech, physically...  politics   \n",
      "12411                                                NaN       NaN   \n",
      "12412                                                NaN       NaN   \n",
      "...                                                  ...       ...   \n",
      "33291  In a bizarre interview with Irish TV,  wacky g...  politics   \n",
      "33292  NFL reporter Jason LaCanfora updated football ...  politics   \n",
      "33293  President Trump just exposed one of the bigges...  politics   \n",
      "33294  Mike Pence tweeted about how he was looking fo...  politics   \n",
      "33295  If John Persinger wins the mayoral race in Eri...  politics   \n",
      "\n",
      "               date label Unnamed: 5 Unnamed: 6 Unnamed: 7 Unnamed: 8  \\\n",
      "9733            NaN   NaN        NaN        NaN        NaN        NaN   \n",
      "9946    Sep 9, 2022  Fake        NaN        NaN        NaN        NaN   \n",
      "11450  Mar 10, 2022  Fake        NaN        NaN        NaN        NaN   \n",
      "12411           NaN   NaN        NaN        NaN        NaN        NaN   \n",
      "12412           NaN   NaN        NaN        NaN        NaN        NaN   \n",
      "...             ...   ...        ...        ...        ...        ...   \n",
      "33291   Oct 8, 2022  Fake        NaN        NaN        NaN        NaN   \n",
      "33292   Oct 8, 2022  Fake        NaN        NaN        NaN        NaN   \n",
      "33293   Oct 8, 2022  Fake        NaN        NaN        NaN        NaN   \n",
      "33294   Oct 8, 2022  Fake        NaN        NaN        NaN        NaN   \n",
      "33295   Oct 8, 2022  Fake        NaN        NaN        NaN        NaN   \n",
      "\n",
      "      Unnamed: 9  ... Unnamed: 162 Unnamed: 163 Unnamed: 164 Unnamed: 165  \\\n",
      "9733         NaN  ...          NaN          NaN          NaN          NaN   \n",
      "9946         NaN  ...          NaN          NaN          NaN          NaN   \n",
      "11450        NaN  ...          NaN          NaN          NaN          NaN   \n",
      "12411        NaN  ...          NaN          NaN          NaN          NaN   \n",
      "12412        NaN  ...          NaN          NaN          NaN          NaN   \n",
      "...          ...  ...          ...          ...          ...          ...   \n",
      "33291        NaN  ...          NaN          NaN          NaN          NaN   \n",
      "33292        NaN  ...          NaN          NaN          NaN          NaN   \n",
      "33293        NaN  ...          NaN          NaN          NaN          NaN   \n",
      "33294        NaN  ...          NaN          NaN          NaN          NaN   \n",
      "33295        NaN  ...          NaN          NaN          NaN          NaN   \n",
      "\n",
      "      Unnamed: 166 Unnamed: 167 Unnamed: 168 Unnamed: 169 Unnamed: 170  \\\n",
      "9733           NaN          NaN          NaN          NaN          NaN   \n",
      "9946           NaN          NaN          NaN          NaN          NaN   \n",
      "11450          NaN          NaN          NaN          NaN          NaN   \n",
      "12411          NaN          NaN          NaN          NaN          NaN   \n",
      "12412          NaN          NaN          NaN          NaN          NaN   \n",
      "...            ...          ...          ...          ...          ...   \n",
      "33291          NaN          NaN          NaN          NaN          NaN   \n",
      "33292          NaN          NaN          NaN          NaN          NaN   \n",
      "33293          NaN          NaN          NaN          NaN          NaN   \n",
      "33294          NaN          NaN          NaN          NaN          NaN   \n",
      "33295          NaN          NaN          NaN          NaN          NaN   \n",
      "\n",
      "      Unnamed: 171  \n",
      "9733           NaN  \n",
      "9946           NaN  \n",
      "11450          NaN  \n",
      "12411          NaN  \n",
      "12412          NaN  \n",
      "...            ...  \n",
      "33291          NaN  \n",
      "33292          NaN  \n",
      "33293          NaN  \n",
      "33294          NaN  \n",
      "33295          NaN  \n",
      "\n",
      "[1528 rows x 172 columns]\n"
     ]
    }
   ],
   "source": [
    "duplicate_rows_fake = fake_df[fake_df.duplicated()]\n",
    "\n",
    "print(\"Duplicate Rows except first occurrence based on all columns:\")\n",
    "print(duplicate_rows_fake)"
   ]
  },
  {
   "cell_type": "code",
   "execution_count": 24,
   "id": "5fbf9ed2",
   "metadata": {},
   "outputs": [
    {
     "name": "stdout",
     "output_type": "stream",
     "text": [
      "Total missing values percentage in the DataFrame: 3.192272903475901\n"
     ]
    }
   ],
   "source": [
    "# Assuming your DataFrame is named df\n",
    "\n",
    "# Count the total number of cells in the DataFrame\n",
    "total_cells = real_df.size\n",
    "\n",
    "# Count the total number of missing values in the DataFrame\n",
    "total_missing_values = real_df.isna().sum().sum()\n",
    "\n",
    "# Calculate the percentage of missing values\n",
    "missing_values_percentage = (total_missing_values / total_cells) * 100\n",
    "\n",
    "print(\"Total missing values percentage in the DataFrame:\", missing_values_percentage)\n"
   ]
  },
  {
   "cell_type": "code",
   "execution_count": 25,
   "id": "9381d8b0",
   "metadata": {},
   "outputs": [
    {
     "name": "stdout",
     "output_type": "stream",
     "text": [
      "Total missing values percentage in the DataFrame: 97.21808192617593\n"
     ]
    }
   ],
   "source": [
    "# Count the total number of cells in the DataFrame\n",
    "total_cells_fake = fake_df.size\n",
    "\n",
    "# Count the total number of missing values in the DataFrame\n",
    "total_missing_values_fake = fake_df.isna().sum().sum()\n",
    "\n",
    "# Calculate the percentage of missing values\n",
    "missing_values_percentage_fake = (total_missing_values_fake / total_cells_fake) * 100\n",
    "\n",
    "print(\"Total missing values percentage in the DataFrame:\", missing_values_percentage_fake)\n"
   ]
  },
  {
   "cell_type": "code",
   "execution_count": 26,
   "id": "d1a36253",
   "metadata": {},
   "outputs": [
    {
     "name": "stdout",
     "output_type": "stream",
     "text": [
      "Number of duplicate rows in all columns: 9762\n"
     ]
    }
   ],
   "source": [
    "num_duplicates = len(duplicate_rows)\n",
    "\n",
    "print(\"Number of duplicate rows in all columns:\", num_duplicates)"
   ]
  },
  {
   "cell_type": "code",
   "execution_count": 27,
   "id": "bc125cfd",
   "metadata": {},
   "outputs": [
    {
     "name": "stdout",
     "output_type": "stream",
     "text": [
      "Number of duplicate rows in all columns: 1528\n"
     ]
    }
   ],
   "source": [
    "num_duplicates_fake = len(duplicate_rows_fake)\n",
    "\n",
    "print(\"Number of duplicate rows in all columns:\", num_duplicates_fake)"
   ]
  },
  {
   "cell_type": "code",
   "execution_count": 28,
   "id": "49abbb05",
   "metadata": {},
   "outputs": [
    {
     "name": "stdout",
     "output_type": "stream",
     "text": [
      "Percentage of duplicate rows in the DataFrame: 31.535082051944695\n"
     ]
    }
   ],
   "source": [
    "# Count duplicate rows\n",
    "duplicate_rows_count = real_df.duplicated().sum()\n",
    "\n",
    "# Calculate the total number of rows in the DataFrame\n",
    "total_rows = len(real_df)\n",
    "\n",
    "# Calculate the percentage of duplicate rows\n",
    "percentage_duplicates = (duplicate_rows_count / total_rows) * 100\n",
    "\n",
    "print(\"Percentage of duplicate rows in the DataFrame:\", percentage_duplicates)\n"
   ]
  },
  {
   "cell_type": "code",
   "execution_count": 29,
   "id": "5ad892b4",
   "metadata": {},
   "outputs": [
    {
     "name": "stdout",
     "output_type": "stream",
     "text": [
      "Percentage of duplicate rows in the DataFrame: 4.589139836617011\n"
     ]
    }
   ],
   "source": [
    "# Count duplicate rows\n",
    "duplicate_rows_count_fake = fake_df.duplicated().sum()\n",
    "\n",
    "# Calculate the total number of rows in the DataFrame\n",
    "total_rows_fake = len(fake_df)\n",
    "\n",
    "# Calculate the percentage of duplicate rows\n",
    "percentage_duplicates_fake = (duplicate_rows_count_fake / total_rows_fake) * 100\n",
    "\n",
    "print(\"Percentage of duplicate rows in the DataFrame:\", percentage_duplicates_fake)"
   ]
  },
  {
   "cell_type": "code",
   "execution_count": 30,
   "id": "e9d4c98d",
   "metadata": {},
   "outputs": [
    {
     "data": {
      "image/png": "[encoded data removed]",
      "text/plain": [
       "<Figure size 800x600 with 1 Axes>"
      ]
     },
     "metadata": {},
     "output_type": "display_data"
    }
   ],
   "source": [
    "# Count duplicate rows\n",
    "duplicate_rows_count = real_df.duplicated().sum()\n",
    "\n",
    "# Calculate the total number of rows in the DataFrame\n",
    "total_rows = len(real_df)\n",
    "\n",
    "# Calculate the percentage of duplicate rows\n",
    "percentage_duplicates = (duplicate_rows_count / total_rows) * 100\n",
    "\n",
    "# Plotting\n",
    "plt.figure(figsize=(8, 6))\n",
    "plt.bar(['Duplicate Rows', 'Unique Rows'], [duplicate_rows_count, total_rows - duplicate_rows_count], color=['red', 'green'])\n",
    "plt.title('Percentage of Duplicate Rows')\n",
    "plt.ylabel('Number of Rows')\n",
    "plt.show()\n"
   ]
  },
  {
   "cell_type": "code",
   "execution_count": 31,
   "id": "93018af1",
   "metadata": {},
   "outputs": [
    {
     "data": {
      "image/png": "[encoded data removed]",
      "text/plain": [
       "<Figure size 800x600 with 1 Axes>"
      ]
     },
     "metadata": {},
     "output_type": "display_data"
    }
   ],
   "source": [
    "# Count duplicate rows\n",
    "duplicate_rows_count_fake = fake_df.duplicated().sum()\n",
    "\n",
    "# Calculate the total number of rows in the DataFrame\n",
    "total_rows_fake = len(fake_df)\n",
    "\n",
    "# Calculate the percentage of duplicate rows\n",
    "percentage_duplicates_fake = (duplicate_rows_count_fake / total_rows_fake) * 100\n",
    "\n",
    "# Plotting\n",
    "plt.figure(figsize=(8, 6))\n",
    "plt.bar(['Duplicate Rows', 'Unique Rows'], [duplicate_rows_count_fake, total_rows_fake - duplicate_rows_count_fake], color=['red', 'green'])\n",
    "plt.title('Percentage of Duplicate Rows')\n",
    "plt.ylabel('Number of Rows')\n",
    "plt.show()"
   ]
  },
  {
   "cell_type": "code",
   "execution_count": 32,
   "id": "5a44d0de",
   "metadata": {},
   "outputs": [
    {
     "data": {
      "image/png": "[encoded data removed]",
      "text/plain": [
       "<Figure size 1000x600 with 1 Axes>"
      ]
     },
     "metadata": {},
     "output_type": "display_data"
    }
   ],
   "source": [
    "import seaborn as sns\n",
    "import matplotlib.pyplot as plt\n",
    "\n",
    "# Generate a heatmap of missing values\n",
    "plt.figure(figsize=(10, 6))\n",
    "sns.heatmap(real_df.isnull(), cmap='viridis', cbar=False)\n",
    "plt.title('Missing Data Heatmap')\n",
    "plt.show()\n"
   ]
  },
  {
   "cell_type": "code",
   "execution_count": 33,
   "id": "e3396181",
   "metadata": {},
   "outputs": [
    {
     "data": {
      "image/png": "[encoded data removed]",
      "text/plain": [
       "<Figure size 1000x600 with 1 Axes>"
      ]
     },
     "metadata": {},
     "output_type": "display_data"
    }
   ],
   "source": [
    "import seaborn as sns\n",
    "import matplotlib.pyplot as plt\n",
    "\n",
    "# Generate a heatmap of missing values\n",
    "plt.figure(figsize=(10, 6))\n",
    "sns.heatmap(fake_df.isnull(), cmap='viridis', cbar=False)\n",
    "plt.title('Missing Data Heatmap')\n",
    "plt.show()\n"
   ]
  },
  {
   "cell_type": "code",
   "execution_count": 34,
   "id": "527fe888",
   "metadata": {},
   "outputs": [
    {
     "data": {
      "image/png": "[encoded data removed]",
      "text/plain": [
       "<Figure size 1000x600 with 1 Axes>"
      ]
     },
     "metadata": {},
     "output_type": "display_data"
    }
   ],
   "source": [
    "# Calculate the percentage of missing values in each column\n",
    "missing_percentage = (real_df.isnull().sum() / len(real_df)) * 100\n",
    "\n",
    "# Plotting\n",
    "plt.figure(figsize=(10, 6))\n",
    "missing_percentage.plot(kind='bar', color='skyblue')\n",
    "plt.title('Percentage of Missing Values in Each Column')\n",
    "plt.xlabel('Columns')\n",
    "plt.ylabel('Percentage Missing')\n",
    "plt.xticks(rotation=45, ha='right')\n",
    "plt.tight_layout()\n",
    "plt.show()\n"
   ]
  },
  {
   "cell_type": "code",
   "execution_count": 35,
   "id": "a7bdd4c5",
   "metadata": {},
   "outputs": [
    {
     "data": {
      "text/plain": [
       "Index(['title', 'text', 'subject', 'date', 'label', 'Unnamed: 5', 'Unnamed: 6',\n",
       "       'Unnamed: 7', 'Unnamed: 8', 'Unnamed: 9',\n",
       "       ...\n",
       "       'Unnamed: 162', 'Unnamed: 163', 'Unnamed: 164', 'Unnamed: 165',\n",
       "       'Unnamed: 166', 'Unnamed: 167', 'Unnamed: 168', 'Unnamed: 169',\n",
       "       'Unnamed: 170', 'Unnamed: 171'],\n",
       "      dtype='object', length=172)"
      ]
     },
     "execution_count": 35,
     "metadata": {},
     "output_type": "execute_result"
    }
   ],
   "source": [
    "fake_df.columns"
   ]
  },
  {
   "cell_type": "code",
   "execution_count": 36,
   "id": "ebc8ed2b",
   "metadata": {},
   "outputs": [],
   "source": [
    "# Drop columns containing garbage values\n",
    "fake_df = fake_df.drop(columns=fake_df.columns[5:172])\n",
    "\n",
    "# Now, you can proceed with further analysis or tasks using the cleaned DataFrame\n"
   ]
  },
  {
   "cell_type": "code",
   "execution_count": 37,
   "id": "023542ac",
   "metadata": {},
   "outputs": [
    {
     "data": {
      "text/plain": [
       "Index(['title', 'text', 'subject', 'date', 'label'], dtype='object')"
      ]
     },
     "execution_count": 37,
     "metadata": {},
     "output_type": "execute_result"
    }
   ],
   "source": [
    "fake_df.columns"
   ]
  },
  {
   "cell_type": "code",
   "execution_count": 38,
   "id": "5a1764a4",
   "metadata": {},
   "outputs": [
    {
     "data": {
      "image/png": "[encoded data removed]",
      "text/plain": [
       "<Figure size 1000x600 with 1 Axes>"
      ]
     },
     "metadata": {},
     "output_type": "display_data"
    }
   ],
   "source": [
    "# Calculate the percentage of missing values in each column\n",
    "missing_percentage = (fake_df.isnull().sum() / len(fake_df)) * 100\n",
    "\n",
    "# Plotting\n",
    "plt.figure(figsize=(10, 6))\n",
    "missing_percentage.plot(kind='bar', color='skyblue')\n",
    "plt.title('Percentage of Missing Values in Each Column in Fake dataframe')\n",
    "plt.xlabel('Columns')\n",
    "plt.ylabel('Percentage Missing')\n",
    "plt.xticks(rotation=45, ha='right')\n",
    "plt.tight_layout()\n",
    "plt.show()"
   ]
  },
  {
   "cell_type": "code",
   "execution_count": 39,
   "id": "8e33f3ab",
   "metadata": {},
   "outputs": [],
   "source": [
    "# Drop rows with null values\n",
    "real_df = real_df.dropna()\n",
    "\n",
    "# Now,dfcontains no rows with null values\n"
   ]
  },
  {
   "cell_type": "code",
   "execution_count": 40,
   "id": "9dae0113",
   "metadata": {},
   "outputs": [
    {
     "data": {
      "text/plain": [
       "title      0\n",
       "text       0\n",
       "subject    0\n",
       "date       0\n",
       "label      0\n",
       "dtype: int64"
      ]
     },
     "execution_count": 40,
     "metadata": {},
     "output_type": "execute_result"
    }
   ],
   "source": [
    "real_df.isnull().sum()"
   ]
  },
  {
   "cell_type": "code",
   "execution_count": 41,
   "id": "3a1ad82d",
   "metadata": {},
   "outputs": [],
   "source": [
    "# Drop rows with null values\n",
    "fake_df = fake_df.dropna()\n",
    "\n",
    "# Now, fake_df contains no rows with null values\n"
   ]
  },
  {
   "cell_type": "code",
   "execution_count": 42,
   "id": "907a8f0a",
   "metadata": {},
   "outputs": [
    {
     "data": {
      "text/plain": [
       "title      0\n",
       "text       0\n",
       "subject    0\n",
       "date       0\n",
       "label      0\n",
       "dtype: int64"
      ]
     },
     "execution_count": 42,
     "metadata": {},
     "output_type": "execute_result"
    }
   ],
   "source": [
    "fake_df.isnull().sum()"
   ]
  },
  {
   "cell_type": "code",
   "execution_count": 43,
   "id": "07eb53cb",
   "metadata": {},
   "outputs": [
    {
     "name": "stdout",
     "output_type": "stream",
     "text": [
      "Duplicate Rows:\n",
      "                                                   title  \\\n",
      "9946   HILLARY TWEETS MESSAGE In Defense Of DACA…OOPS...   \n",
      "11450  FORMER DEMOCRAT WARNS Young Americans: “Rioter...   \n",
      "14937  [VIDEO] #BlackLivesMatter Terrorists Storm Dar...   \n",
      "17865           oros-backed Center for American Progress   \n",
      "19641  rtion into developing regions of the world.Nat...   \n",
      "...                                                  ...   \n",
      "33291  ‘BIZARRE’ HILLARY CLINTON After Election Tells...   \n",
      "33292  BREAKING NEWS: NFL Reporter Says Colin Kaepern...   \n",
      "33293  TRUMP BLASTS SENATE RINO ON TWITTER…Exposes RE...   \n",
      "33294  BREAKING…VP PENCE and Wife Karen Abruptly Leav...   \n",
      "33295  MAYORAL CANDIDATE In DIE-HARD DEMOCRAT City Ma...   \n",
      "\n",
      "                                                    text  \\\n",
      "9946   No time to waste   we've got to fight with eve...   \n",
      "11450   Who is silencing political speech, physically...   \n",
      "14937  They were probably just looking for a  safe sp...   \n",
      "17865        and is heavily funded by Democracy Alliance   \n",
      "19641   while criticizing their conservative counterp...   \n",
      "...                                                  ...   \n",
      "33291  In a bizarre interview with Irish TV,  wacky g...   \n",
      "33292  NFL reporter Jason LaCanfora updated football ...   \n",
      "33293  President Trump just exposed one of the bigges...   \n",
      "33294  Mike Pence tweeted about how he was looking fo...   \n",
      "33295  If John Persinger wins the mayoral race in Eri...   \n",
      "\n",
      "                                                 subject  \\\n",
      "9946                                            politics   \n",
      "11450                                           politics   \n",
      "14937                                           politics   \n",
      "17865   of which Soros is a major financier.Mercy Cor...   \n",
      "19641                                         high taxes   \n",
      "...                                                  ...   \n",
      "33291                                           politics   \n",
      "33292                                           politics   \n",
      "33293                                           politics   \n",
      "33294                                           politics   \n",
      "33295                                           politics   \n",
      "\n",
      "                                                    date label  \n",
      "9946                                         Sep 9, 2022  Fake  \n",
      "11450                                       Mar 10, 2022  Fake  \n",
      "14937                                       Nov 16, 2015  Fake  \n",
      "17865   Mercy Corps places all blame for Palestinian ...  Fake  \n",
      "19641                             military spending cuts  Fake  \n",
      "...                                                  ...   ...  \n",
      "33291                                        Oct 8, 2022  Fake  \n",
      "33292                                        Oct 8, 2022  Fake  \n",
      "33293                                        Oct 8, 2022  Fake  \n",
      "33294                                        Oct 8, 2022  Fake  \n",
      "33295                                        Oct 8, 2022  Fake  \n",
      "\n",
      "[1467 rows x 5 columns]\n"
     ]
    }
   ],
   "source": [
    "# Find duplicate rows\n",
    "duplicate_rows = fake_df[fake_df.duplicated()]\n",
    "\n",
    "# Display duplicate rows\n",
    "print(\"Duplicate Rows:\")\n",
    "print(duplicate_rows)\n"
   ]
  },
  {
   "cell_type": "code",
   "execution_count": 44,
   "id": "61188fb8",
   "metadata": {},
   "outputs": [
    {
     "name": "stdout",
     "output_type": "stream",
     "text": [
      "Sum of Duplicate Rows: 1467\n"
     ]
    }
   ],
   "source": [
    "# Find the sum of duplicate rows\n",
    "sum_duplicates = fake_df.duplicated().sum()\n",
    "\n",
    "# Display the sum of duplicate rows\n",
    "print(\"Sum of Duplicate Rows:\", sum_duplicates)\n"
   ]
  },
  {
   "cell_type": "code",
   "execution_count": 45,
   "id": "3350bc9c",
   "metadata": {},
   "outputs": [
    {
     "name": "stdout",
     "output_type": "stream",
     "text": [
      "DataFrame after removing duplicates:\n",
      "                                                   title  \\\n",
      "0       Donald Trump Sends Out Embarrassing New Year’...   \n",
      "1       Drunk Bragging Trump Staffer Started Russian ...   \n",
      "2       Sheriff David Clarke Becomes An Internet Joke...   \n",
      "3       Trump Is So Obsessed He Even Has Obama’s Name...   \n",
      "4       Pope Francis Just Called Out Donald Trump Dur...   \n",
      "...                                                  ...   \n",
      "23560  McPain: John McCain Furious That Iran Treated ...   \n",
      "23561  JUSTICE? Yahoo Settles E-mail Privacy Class-ac...   \n",
      "23562  Sunnistan: US and Allied ‘Safe Zone’ Plan to T...   \n",
      "23563  How to Blow $700 Million: Al Jazeera America F...   \n",
      "23564  10 U.S. Navy Sailors Held by Iranian Military ...   \n",
      "\n",
      "                                                    text      subject  \\\n",
      "0      Donald Trump just couldn t wish all Americans ...         News   \n",
      "1      House Intelligence Committee Chairman Devin Nu...         News   \n",
      "2      On Friday, it was revealed that former Milwauk...         News   \n",
      "3      On Christmas day, Donald Trump announced that ...         News   \n",
      "4      Pope Francis used his annual Christmas Day mes...         News   \n",
      "...                                                  ...          ...   \n",
      "23560  21st Century Wire says As 21WIRE reported earl...  Middle-east   \n",
      "23561  21st Century Wire says It s a familiar theme. ...  Middle-east   \n",
      "23562  Patrick Henningsen  21st Century WireRemember ...  Middle-east   \n",
      "23563  21st Century Wire says Al Jazeera America will...  Middle-east   \n",
      "23564  21st Century Wire says As 21WIRE predicted in ...  Middle-east   \n",
      "\n",
      "                    date label  \n",
      "0      December 31, 2022  Fake  \n",
      "1      December 31, 2022  Fake  \n",
      "2      December 30, 2022  Fake  \n",
      "3      December 29, 2022  Fake  \n",
      "4      December 25, 2022  Fake  \n",
      "...                  ...   ...  \n",
      "23560   January 16, 2022  Fake  \n",
      "23561   January 16, 2022  Fake  \n",
      "23562   January 15, 2022  Fake  \n",
      "23563   January 14, 2022  Fake  \n",
      "23564   January 12, 2022  Fake  \n",
      "\n",
      "[23468 rows x 5 columns]\n"
     ]
    }
   ],
   "source": [
    "# Remove duplicate rows\n",
    "cleaned_fake_df = fake_df.drop_duplicates()\n",
    "\n",
    "# Display the cleaned DataFrame\n",
    "print(\"DataFrame after removing duplicates:\")\n",
    "print(cleaned_fake_df)\n"
   ]
  },
  {
   "cell_type": "code",
   "execution_count": 46,
   "id": "b372d6f0",
   "metadata": {},
   "outputs": [
    {
     "name": "stdout",
     "output_type": "stream",
     "text": [
      "DataFrame after removing duplicates:\n",
      "                                                   title  \\\n",
      "0      As U.S. budget fight looms, Republicans flip t...   \n",
      "1      U.S. military to accept transgender recruits o...   \n",
      "2      Senior U.S. Republican senator: 'Let Mr. Muell...   \n",
      "3      FBI Russia probe helped by Australian diplomat...   \n",
      "4      Trump wants Postal Service to charge 'much mor...   \n",
      "...                                                  ...   \n",
      "21412  'Fully committed' NATO backs new U.S. approach...   \n",
      "21413  LexisNexis withdrew two products from Chinese ...   \n",
      "21414  Minsk cultural hub becomes haven from authorities   \n",
      "21415  Vatican upbeat on possibility of Pope Francis ...   \n",
      "21416  Indonesia to buy $1.14 billion worth of Russia...   \n",
      "\n",
      "                                                    text       subject  \\\n",
      "0      WASHINGTON (Reuters) - The head of a conservat...  politicsNews   \n",
      "1      WASHINGTON (Reuters) - Transgender people will...  politicsNews   \n",
      "2      WASHINGTON (Reuters) - The special counsel inv...  politicsNews   \n",
      "3      WASHINGTON (Reuters) - Trump campaign adviser ...  politicsNews   \n",
      "4      SEATTLE/WASHINGTON (Reuters) - President Donal...  politicsNews   \n",
      "...                                                  ...           ...   \n",
      "21412  BRUSSELS (Reuters) - NATO allies on Tuesday we...     worldnews   \n",
      "21413  LONDON (Reuters) - LexisNexis, a provider of l...     worldnews   \n",
      "21414  MINSK (Reuters) - In the shadow of disused Sov...     worldnews   \n",
      "21415  MOSCOW (Reuters) - Vatican Secretary of State ...     worldnews   \n",
      "21416  JAKARTA (Reuters) - Indonesia will buy 11 Sukh...     worldnews   \n",
      "\n",
      "                     date label  \n",
      "0      December 31, 2022   Real  \n",
      "1      December 29, 2022   Real  \n",
      "2      December 31, 2022   Real  \n",
      "3      December 30, 2022   Real  \n",
      "4      December 29, 2022   Real  \n",
      "...                   ...   ...  \n",
      "21412    August 22, 2022   Real  \n",
      "21413    August 22, 2022   Real  \n",
      "21414    August 22, 2022   Real  \n",
      "21415    August 22, 2022   Real  \n",
      "21416    August 22, 2022   Real  \n",
      "\n",
      "[17233 rows x 5 columns]\n"
     ]
    }
   ],
   "source": [
    "# Remove duplicate rows\n",
    "cleaned_real_df = real_df.drop_duplicates()\n",
    "\n",
    "# Display the cleaned DataFrame\n",
    "print(\"DataFrame after removing duplicates:\")\n",
    "print(cleaned_real_df)"
   ]
  },
  {
   "cell_type": "code",
   "execution_count": 47,
   "id": "75260cb5",
   "metadata": {},
   "outputs": [
    {
     "data": {
      "text/plain": [
       "(17233, 5)"
      ]
     },
     "execution_count": 47,
     "metadata": {},
     "output_type": "execute_result"
    }
   ],
   "source": [
    "cleaned_real_df.shape"
   ]
  },
  {
   "cell_type": "code",
   "execution_count": 48,
   "id": "57701801",
   "metadata": {},
   "outputs": [
    {
     "data": {
      "text/plain": [
       "(23468, 5)"
      ]
     },
     "execution_count": 48,
     "metadata": {},
     "output_type": "execute_result"
    }
   ],
   "source": [
    "cleaned_fake_df.shape"
   ]
  },
  {
   "cell_type": "code",
   "execution_count": 49,
   "id": "efcf109e",
   "metadata": {},
   "outputs": [],
   "source": [
    "cleaned_fake_df[\"class\"]=0\n",
    "cleaned_real_df[\"class\"]=1"
   ]
  },
  {
   "cell_type": "code",
   "execution_count": 50,
   "id": "d9ba8a58",
   "metadata": {},
   "outputs": [],
   "source": [
    "# Remove the 'Label' column from cleaned_fake_df\n",
    "cleaned_fake_df = cleaned_fake_df.drop(columns=['label'])\n",
    "\n",
    "# Remove the 'Label' column from cleaned_real_df\n",
    "cleaned_real_df = cleaned_real_df.drop(columns=['label'])"
   ]
  },
  {
   "cell_type": "code",
   "execution_count": 51,
   "id": "554f6c3b",
   "metadata": {},
   "outputs": [
    {
     "data": {
      "text/plain": [
       "((23468, 5), (17233, 5))"
      ]
     },
     "execution_count": 51,
     "metadata": {},
     "output_type": "execute_result"
    }
   ],
   "source": [
    "cleaned_fake_df.shape, cleaned_real_df.shape"
   ]
  },
  {
   "cell_type": "code",
   "execution_count": 52,
   "id": "68e62b2a",
   "metadata": {},
   "outputs": [
    {
     "data": {
      "text/html": [
       "<div>\n",
       "<style scoped>\n",
       "    .dataframe tbody tr th:only-of-type {\n",
       "        vertical-align: middle;\n",
       "    }\n",
       "\n",
       "    .dataframe tbody tr th {\n",
       "        vertical-align: top;\n",
       "    }\n",
       "\n",
       "    .dataframe thead th {\n",
       "        text-align: right;\n",
       "    }\n",
       "</style>\n",
       "<table border=\"1\" class=\"dataframe\">\n",
       "  <thead>\n",
       "    <tr style=\"text-align: right;\">\n",
       "      <th></th>\n",
       "      <th>title</th>\n",
       "      <th>text</th>\n",
       "      <th>subject</th>\n",
       "      <th>date</th>\n",
       "      <th>class</th>\n",
       "    </tr>\n",
       "  </thead>\n",
       "  <tbody>\n",
       "    <tr>\n",
       "      <th>23560</th>\n",
       "      <td>McPain: John McCain Furious That Iran Treated ...</td>\n",
       "      <td>21st Century Wire says As 21WIRE reported earl...</td>\n",
       "      <td>Middle-east</td>\n",
       "      <td>January 16, 2022</td>\n",
       "      <td>0</td>\n",
       "    </tr>\n",
       "    <tr>\n",
       "      <th>23561</th>\n",
       "      <td>JUSTICE? Yahoo Settles E-mail Privacy Class-ac...</td>\n",
       "      <td>21st Century Wire says It s a familiar theme. ...</td>\n",
       "      <td>Middle-east</td>\n",
       "      <td>January 16, 2022</td>\n",
       "      <td>0</td>\n",
       "    </tr>\n",
       "    <tr>\n",
       "      <th>23562</th>\n",
       "      <td>Sunnistan: US and Allied ‘Safe Zone’ Plan to T...</td>\n",
       "      <td>Patrick Henningsen  21st Century WireRemember ...</td>\n",
       "      <td>Middle-east</td>\n",
       "      <td>January 15, 2022</td>\n",
       "      <td>0</td>\n",
       "    </tr>\n",
       "    <tr>\n",
       "      <th>23563</th>\n",
       "      <td>How to Blow $700 Million: Al Jazeera America F...</td>\n",
       "      <td>21st Century Wire says Al Jazeera America will...</td>\n",
       "      <td>Middle-east</td>\n",
       "      <td>January 14, 2022</td>\n",
       "      <td>0</td>\n",
       "    </tr>\n",
       "    <tr>\n",
       "      <th>23564</th>\n",
       "      <td>10 U.S. Navy Sailors Held by Iranian Military ...</td>\n",
       "      <td>21st Century Wire says As 21WIRE predicted in ...</td>\n",
       "      <td>Middle-east</td>\n",
       "      <td>January 12, 2022</td>\n",
       "      <td>0</td>\n",
       "    </tr>\n",
       "  </tbody>\n",
       "</table>\n",
       "</div>"
      ],
      "text/plain": [
       "                                                   title  \\\n",
       "23560  McPain: John McCain Furious That Iran Treated ...   \n",
       "23561  JUSTICE? Yahoo Settles E-mail Privacy Class-ac...   \n",
       "23562  Sunnistan: US and Allied ‘Safe Zone’ Plan to T...   \n",
       "23563  How to Blow $700 Million: Al Jazeera America F...   \n",
       "23564  10 U.S. Navy Sailors Held by Iranian Military ...   \n",
       "\n",
       "                                                    text      subject  \\\n",
       "23560  21st Century Wire says As 21WIRE reported earl...  Middle-east   \n",
       "23561  21st Century Wire says It s a familiar theme. ...  Middle-east   \n",
       "23562  Patrick Henningsen  21st Century WireRemember ...  Middle-east   \n",
       "23563  21st Century Wire says Al Jazeera America will...  Middle-east   \n",
       "23564  21st Century Wire says As 21WIRE predicted in ...  Middle-east   \n",
       "\n",
       "                   date  class  \n",
       "23560  January 16, 2022      0  \n",
       "23561  January 16, 2022      0  \n",
       "23562  January 15, 2022      0  \n",
       "23563  January 14, 2022      0  \n",
       "23564  January 12, 2022      0  "
      ]
     },
     "execution_count": 52,
     "metadata": {},
     "output_type": "execute_result"
    }
   ],
   "source": [
    "cleaned_fake_df.tail()"
   ]
  },
  {
   "cell_type": "code",
   "execution_count": 53,
   "id": "28f6c352",
   "metadata": {},
   "outputs": [
    {
     "data": {
      "text/html": [
       "<div>\n",
       "<style scoped>\n",
       "    .dataframe tbody tr th:only-of-type {\n",
       "        vertical-align: middle;\n",
       "    }\n",
       "\n",
       "    .dataframe tbody tr th {\n",
       "        vertical-align: top;\n",
       "    }\n",
       "\n",
       "    .dataframe thead th {\n",
       "        text-align: right;\n",
       "    }\n",
       "</style>\n",
       "<table border=\"1\" class=\"dataframe\">\n",
       "  <thead>\n",
       "    <tr style=\"text-align: right;\">\n",
       "      <th></th>\n",
       "      <th>title</th>\n",
       "      <th>text</th>\n",
       "      <th>subject</th>\n",
       "      <th>date</th>\n",
       "      <th>class</th>\n",
       "    </tr>\n",
       "  </thead>\n",
       "  <tbody>\n",
       "    <tr>\n",
       "      <th>21412</th>\n",
       "      <td>'Fully committed' NATO backs new U.S. approach...</td>\n",
       "      <td>BRUSSELS (Reuters) - NATO allies on Tuesday we...</td>\n",
       "      <td>worldnews</td>\n",
       "      <td>August 22, 2022</td>\n",
       "      <td>1</td>\n",
       "    </tr>\n",
       "    <tr>\n",
       "      <th>21413</th>\n",
       "      <td>LexisNexis withdrew two products from Chinese ...</td>\n",
       "      <td>LONDON (Reuters) - LexisNexis, a provider of l...</td>\n",
       "      <td>worldnews</td>\n",
       "      <td>August 22, 2022</td>\n",
       "      <td>1</td>\n",
       "    </tr>\n",
       "    <tr>\n",
       "      <th>21414</th>\n",
       "      <td>Minsk cultural hub becomes haven from authorities</td>\n",
       "      <td>MINSK (Reuters) - In the shadow of disused Sov...</td>\n",
       "      <td>worldnews</td>\n",
       "      <td>August 22, 2022</td>\n",
       "      <td>1</td>\n",
       "    </tr>\n",
       "    <tr>\n",
       "      <th>21415</th>\n",
       "      <td>Vatican upbeat on possibility of Pope Francis ...</td>\n",
       "      <td>MOSCOW (Reuters) - Vatican Secretary of State ...</td>\n",
       "      <td>worldnews</td>\n",
       "      <td>August 22, 2022</td>\n",
       "      <td>1</td>\n",
       "    </tr>\n",
       "    <tr>\n",
       "      <th>21416</th>\n",
       "      <td>Indonesia to buy $1.14 billion worth of Russia...</td>\n",
       "      <td>JAKARTA (Reuters) - Indonesia will buy 11 Sukh...</td>\n",
       "      <td>worldnews</td>\n",
       "      <td>August 22, 2022</td>\n",
       "      <td>1</td>\n",
       "    </tr>\n",
       "  </tbody>\n",
       "</table>\n",
       "</div>"
      ],
      "text/plain": [
       "                                                   title  \\\n",
       "21412  'Fully committed' NATO backs new U.S. approach...   \n",
       "21413  LexisNexis withdrew two products from Chinese ...   \n",
       "21414  Minsk cultural hub becomes haven from authorities   \n",
       "21415  Vatican upbeat on possibility of Pope Francis ...   \n",
       "21416  Indonesia to buy $1.14 billion worth of Russia...   \n",
       "\n",
       "                                                    text    subject  \\\n",
       "21412  BRUSSELS (Reuters) - NATO allies on Tuesday we...  worldnews   \n",
       "21413  LONDON (Reuters) - LexisNexis, a provider of l...  worldnews   \n",
       "21414  MINSK (Reuters) - In the shadow of disused Sov...  worldnews   \n",
       "21415  MOSCOW (Reuters) - Vatican Secretary of State ...  worldnews   \n",
       "21416  JAKARTA (Reuters) - Indonesia will buy 11 Sukh...  worldnews   \n",
       "\n",
       "                   date  class  \n",
       "21412  August 22, 2022       1  \n",
       "21413  August 22, 2022       1  \n",
       "21414  August 22, 2022       1  \n",
       "21415  August 22, 2022       1  \n",
       "21416  August 22, 2022       1  "
      ]
     },
     "execution_count": 53,
     "metadata": {},
     "output_type": "execute_result"
    }
   ],
   "source": [
    "cleaned_real_df.tail()"
   ]
  },
  {
   "cell_type": "code",
   "execution_count": 54,
   "id": "a63cd1ec",
   "metadata": {},
   "outputs": [
    {
     "data": {
      "text/plain": [
       "((23468, 5), (17233, 5))"
      ]
     },
     "execution_count": 54,
     "metadata": {},
     "output_type": "execute_result"
    }
   ],
   "source": [
    "cleaned_fake_df.shape, cleaned_real_df.shape"
   ]
  },
  {
   "cell_type": "code",
   "execution_count": 55,
   "id": "e50d6327",
   "metadata": {},
   "outputs": [
    {
     "name": "stdout",
     "output_type": "stream",
     "text": [
      "Total rows dropped: 100\n"
     ]
    }
   ],
   "source": [
    "cleaned_fake_df_manual_testing = cleaned_fake_df.tail(10)\n",
    "\n",
    "rows_to_drop = 100\n",
    "rows_dropped = 0\n",
    "i = 23466\n",
    "\n",
    "while rows_dropped < rows_to_drop and i >= 0:\n",
    "    if i in cleaned_fake_df.index:\n",
    "        cleaned_fake_df.drop([i], axis=0, inplace=True)\n",
    "        rows_dropped += 1\n",
    "    i -= 1\n",
    "\n",
    "print(f\"Total rows dropped: {rows_dropped}\")\n"
   ]
  },
  {
   "cell_type": "code",
   "execution_count": 56,
   "id": "7c68e348",
   "metadata": {},
   "outputs": [
    {
     "name": "stdout",
     "output_type": "stream",
     "text": [
      "Total rows dropped: 100\n"
     ]
    }
   ],
   "source": [
    "cleaned_real_df_manual_testing = cleaned_real_df.tail(10)\n",
    "\n",
    "rows_to_drop = 100\n",
    "rows_dropped = 0\n",
    "i = 17232\n",
    "\n",
    "while rows_dropped < rows_to_drop and i >= 0:\n",
    "    if i in cleaned_real_df.index:\n",
    "        cleaned_real_df.drop([i], axis=0, inplace=True)\n",
    "        rows_dropped += 1\n",
    "    i -= 1\n",
    "\n",
    "print(f\"Total rows dropped: {rows_dropped}\")\n"
   ]
  },
  {
   "cell_type": "code",
   "execution_count": 57,
   "id": "40488a71",
   "metadata": {},
   "outputs": [
    {
     "data": {
      "text/plain": [
       "((23368, 5), (17133, 5))"
      ]
     },
     "execution_count": 57,
     "metadata": {},
     "output_type": "execute_result"
    }
   ],
   "source": [
    "cleaned_fake_df.shape, cleaned_real_df.shape"
   ]
  },
  {
   "cell_type": "code",
   "execution_count": 58,
   "id": "920043d6",
   "metadata": {},
   "outputs": [
    {
     "data": {
      "text/html": [
       "<div>\n",
       "<style scoped>\n",
       "    .dataframe tbody tr th:only-of-type {\n",
       "        vertical-align: middle;\n",
       "    }\n",
       "\n",
       "    .dataframe tbody tr th {\n",
       "        vertical-align: top;\n",
       "    }\n",
       "\n",
       "    .dataframe thead th {\n",
       "        text-align: right;\n",
       "    }\n",
       "</style>\n",
       "<table border=\"1\" class=\"dataframe\">\n",
       "  <thead>\n",
       "    <tr style=\"text-align: right;\">\n",
       "      <th></th>\n",
       "      <th>title</th>\n",
       "      <th>text</th>\n",
       "      <th>subject</th>\n",
       "      <th>date</th>\n",
       "      <th>class</th>\n",
       "    </tr>\n",
       "  </thead>\n",
       "  <tbody>\n",
       "    <tr>\n",
       "      <th>21406</th>\n",
       "      <td>U.S., North Korea clash at U.N. forum over nuc...</td>\n",
       "      <td>GENEVA (Reuters) - North Korea and the United ...</td>\n",
       "      <td>worldnews</td>\n",
       "      <td>August 22, 2022</td>\n",
       "      <td>1</td>\n",
       "    </tr>\n",
       "    <tr>\n",
       "      <th>21407</th>\n",
       "      <td>Mata Pires, owner of embattled Brazil builder ...</td>\n",
       "      <td>SAO PAULO (Reuters) - Cesar Mata Pires, the ow...</td>\n",
       "      <td>worldnews</td>\n",
       "      <td>August 22, 2022</td>\n",
       "      <td>1</td>\n",
       "    </tr>\n",
       "    <tr>\n",
       "      <th>21409</th>\n",
       "      <td>U.S., North Korea clash at U.N. arms forum on ...</td>\n",
       "      <td>GENEVA (Reuters) - North Korea and the United ...</td>\n",
       "      <td>worldnews</td>\n",
       "      <td>August 22, 2022</td>\n",
       "      <td>1</td>\n",
       "    </tr>\n",
       "    <tr>\n",
       "      <th>21410</th>\n",
       "      <td>Headless torso could belong to submarine journ...</td>\n",
       "      <td>COPENHAGEN (Reuters) - Danish police said on T...</td>\n",
       "      <td>worldnews</td>\n",
       "      <td>August 22, 2022</td>\n",
       "      <td>1</td>\n",
       "    </tr>\n",
       "    <tr>\n",
       "      <th>21411</th>\n",
       "      <td>North Korea shipments to Syria chemical arms a...</td>\n",
       "      <td>UNITED NATIONS (Reuters) - Two North Korean sh...</td>\n",
       "      <td>worldnews</td>\n",
       "      <td>August 21, 2022</td>\n",
       "      <td>1</td>\n",
       "    </tr>\n",
       "  </tbody>\n",
       "</table>\n",
       "</div>"
      ],
      "text/plain": [
       "                                                   title  \\\n",
       "21406  U.S., North Korea clash at U.N. forum over nuc...   \n",
       "21407  Mata Pires, owner of embattled Brazil builder ...   \n",
       "21409  U.S., North Korea clash at U.N. arms forum on ...   \n",
       "21410  Headless torso could belong to submarine journ...   \n",
       "21411  North Korea shipments to Syria chemical arms a...   \n",
       "\n",
       "                                                    text    subject  \\\n",
       "21406  GENEVA (Reuters) - North Korea and the United ...  worldnews   \n",
       "21407  SAO PAULO (Reuters) - Cesar Mata Pires, the ow...  worldnews   \n",
       "21409  GENEVA (Reuters) - North Korea and the United ...  worldnews   \n",
       "21410  COPENHAGEN (Reuters) - Danish police said on T...  worldnews   \n",
       "21411  UNITED NATIONS (Reuters) - Two North Korean sh...  worldnews   \n",
       "\n",
       "                   date  class  \n",
       "21406  August 22, 2022       1  \n",
       "21407  August 22, 2022       1  \n",
       "21409  August 22, 2022       1  \n",
       "21410  August 22, 2022       1  \n",
       "21411  August 21, 2022       1  "
      ]
     },
     "execution_count": 58,
     "metadata": {},
     "output_type": "execute_result"
    }
   ],
   "source": [
    "cleaned_real_df_manual_testing.head()"
   ]
  },
  {
   "cell_type": "code",
   "execution_count": 59,
   "id": "7bc66523",
   "metadata": {},
   "outputs": [
    {
     "data": {
      "text/html": [
       "<div>\n",
       "<style scoped>\n",
       "    .dataframe tbody tr th:only-of-type {\n",
       "        vertical-align: middle;\n",
       "    }\n",
       "\n",
       "    .dataframe tbody tr th {\n",
       "        vertical-align: top;\n",
       "    }\n",
       "\n",
       "    .dataframe thead th {\n",
       "        text-align: right;\n",
       "    }\n",
       "</style>\n",
       "<table border=\"1\" class=\"dataframe\">\n",
       "  <thead>\n",
       "    <tr style=\"text-align: right;\">\n",
       "      <th></th>\n",
       "      <th>title</th>\n",
       "      <th>text</th>\n",
       "      <th>subject</th>\n",
       "      <th>date</th>\n",
       "      <th>class</th>\n",
       "    </tr>\n",
       "  </thead>\n",
       "  <tbody>\n",
       "    <tr>\n",
       "      <th>23555</th>\n",
       "      <td>Seven Iranians freed in the prisoner swap have...</td>\n",
       "      <td>21st Century Wire says This week, the historic...</td>\n",
       "      <td>Middle-east</td>\n",
       "      <td>January 20, 2022</td>\n",
       "      <td>0</td>\n",
       "    </tr>\n",
       "    <tr>\n",
       "      <th>23556</th>\n",
       "      <td>#Hashtag Hell &amp; The Fake Left</td>\n",
       "      <td>By Dady Chery and Gilbert MercierAll writers ...</td>\n",
       "      <td>Middle-east</td>\n",
       "      <td>January 19, 2022</td>\n",
       "      <td>0</td>\n",
       "    </tr>\n",
       "    <tr>\n",
       "      <th>23557</th>\n",
       "      <td>Astroturfing: Journalist Reveals Brainwashing ...</td>\n",
       "      <td>Vic Bishop Waking TimesOur reality is carefull...</td>\n",
       "      <td>Middle-east</td>\n",
       "      <td>January 19, 2022</td>\n",
       "      <td>0</td>\n",
       "    </tr>\n",
       "    <tr>\n",
       "      <th>23558</th>\n",
       "      <td>The New American Century: An Era of Fraud</td>\n",
       "      <td>Paul Craig RobertsIn the last years of the 20t...</td>\n",
       "      <td>Middle-east</td>\n",
       "      <td>January 19, 2022</td>\n",
       "      <td>0</td>\n",
       "    </tr>\n",
       "    <tr>\n",
       "      <th>23559</th>\n",
       "      <td>Hillary Clinton: ‘Israel First’ (and no peace ...</td>\n",
       "      <td>Robert Fantina CounterpunchAlthough the United...</td>\n",
       "      <td>Middle-east</td>\n",
       "      <td>January 18, 2022</td>\n",
       "      <td>0</td>\n",
       "    </tr>\n",
       "  </tbody>\n",
       "</table>\n",
       "</div>"
      ],
      "text/plain": [
       "                                                   title  \\\n",
       "23555  Seven Iranians freed in the prisoner swap have...   \n",
       "23556                      #Hashtag Hell & The Fake Left   \n",
       "23557  Astroturfing: Journalist Reveals Brainwashing ...   \n",
       "23558          The New American Century: An Era of Fraud   \n",
       "23559  Hillary Clinton: ‘Israel First’ (and no peace ...   \n",
       "\n",
       "                                                    text      subject  \\\n",
       "23555  21st Century Wire says This week, the historic...  Middle-east   \n",
       "23556   By Dady Chery and Gilbert MercierAll writers ...  Middle-east   \n",
       "23557  Vic Bishop Waking TimesOur reality is carefull...  Middle-east   \n",
       "23558  Paul Craig RobertsIn the last years of the 20t...  Middle-east   \n",
       "23559  Robert Fantina CounterpunchAlthough the United...  Middle-east   \n",
       "\n",
       "                   date  class  \n",
       "23555  January 20, 2022      0  \n",
       "23556  January 19, 2022      0  \n",
       "23557  January 19, 2022      0  \n",
       "23558  January 19, 2022      0  \n",
       "23559  January 18, 2022      0  "
      ]
     },
     "execution_count": 59,
     "metadata": {},
     "output_type": "execute_result"
    }
   ],
   "source": [
    "cleaned_fake_df_manual_testing.head()"
   ]
  },
  {
   "cell_type": "code",
   "execution_count": 60,
   "id": "d1ef8764",
   "metadata": {},
   "outputs": [
    {
     "data": {
      "text/html": [
       "<div>\n",
       "<style scoped>\n",
       "    .dataframe tbody tr th:only-of-type {\n",
       "        vertical-align: middle;\n",
       "    }\n",
       "\n",
       "    .dataframe tbody tr th {\n",
       "        vertical-align: top;\n",
       "    }\n",
       "\n",
       "    .dataframe thead th {\n",
       "        text-align: right;\n",
       "    }\n",
       "</style>\n",
       "<table border=\"1\" class=\"dataframe\">\n",
       "  <thead>\n",
       "    <tr style=\"text-align: right;\">\n",
       "      <th></th>\n",
       "      <th>title</th>\n",
       "      <th>text</th>\n",
       "      <th>subject</th>\n",
       "      <th>date</th>\n",
       "      <th>class</th>\n",
       "    </tr>\n",
       "  </thead>\n",
       "  <tbody>\n",
       "    <tr>\n",
       "      <th>0</th>\n",
       "      <td>Donald Trump Sends Out Embarrassing New Year’...</td>\n",
       "      <td>Donald Trump just couldn t wish all Americans ...</td>\n",
       "      <td>News</td>\n",
       "      <td>December 31, 2022</td>\n",
       "      <td>0</td>\n",
       "    </tr>\n",
       "    <tr>\n",
       "      <th>1</th>\n",
       "      <td>Drunk Bragging Trump Staffer Started Russian ...</td>\n",
       "      <td>House Intelligence Committee Chairman Devin Nu...</td>\n",
       "      <td>News</td>\n",
       "      <td>December 31, 2022</td>\n",
       "      <td>0</td>\n",
       "    </tr>\n",
       "    <tr>\n",
       "      <th>2</th>\n",
       "      <td>Sheriff David Clarke Becomes An Internet Joke...</td>\n",
       "      <td>On Friday, it was revealed that former Milwauk...</td>\n",
       "      <td>News</td>\n",
       "      <td>December 30, 2022</td>\n",
       "      <td>0</td>\n",
       "    </tr>\n",
       "    <tr>\n",
       "      <th>3</th>\n",
       "      <td>Trump Is So Obsessed He Even Has Obama’s Name...</td>\n",
       "      <td>On Christmas day, Donald Trump announced that ...</td>\n",
       "      <td>News</td>\n",
       "      <td>December 29, 2022</td>\n",
       "      <td>0</td>\n",
       "    </tr>\n",
       "    <tr>\n",
       "      <th>4</th>\n",
       "      <td>Pope Francis Just Called Out Donald Trump Dur...</td>\n",
       "      <td>Pope Francis used his annual Christmas Day mes...</td>\n",
       "      <td>News</td>\n",
       "      <td>December 25, 2022</td>\n",
       "      <td>0</td>\n",
       "    </tr>\n",
       "  </tbody>\n",
       "</table>\n",
       "</div>"
      ],
      "text/plain": [
       "                                               title  \\\n",
       "0   Donald Trump Sends Out Embarrassing New Year’...   \n",
       "1   Drunk Bragging Trump Staffer Started Russian ...   \n",
       "2   Sheriff David Clarke Becomes An Internet Joke...   \n",
       "3   Trump Is So Obsessed He Even Has Obama’s Name...   \n",
       "4   Pope Francis Just Called Out Donald Trump Dur...   \n",
       "\n",
       "                                                text subject  \\\n",
       "0  Donald Trump just couldn t wish all Americans ...    News   \n",
       "1  House Intelligence Committee Chairman Devin Nu...    News   \n",
       "2  On Friday, it was revealed that former Milwauk...    News   \n",
       "3  On Christmas day, Donald Trump announced that ...    News   \n",
       "4  Pope Francis used his annual Christmas Day mes...    News   \n",
       "\n",
       "                date  class  \n",
       "0  December 31, 2022      0  \n",
       "1  December 31, 2022      0  \n",
       "2  December 30, 2022      0  \n",
       "3  December 29, 2022      0  \n",
       "4  December 25, 2022      0  "
      ]
     },
     "execution_count": 60,
     "metadata": {},
     "output_type": "execute_result"
    }
   ],
   "source": [
    "data_merge = pd.concat([cleaned_fake_df,cleaned_real_df],axis=0)\n",
    "data_merge.head()"
   ]
  },
  {
   "cell_type": "code",
   "execution_count": 61,
   "id": "2da43fd5",
   "metadata": {},
   "outputs": [
    {
     "data": {
      "text/html": [
       "<div>\n",
       "<style scoped>\n",
       "    .dataframe tbody tr th:only-of-type {\n",
       "        vertical-align: middle;\n",
       "    }\n",
       "\n",
       "    .dataframe tbody tr th {\n",
       "        vertical-align: top;\n",
       "    }\n",
       "\n",
       "    .dataframe thead th {\n",
       "        text-align: right;\n",
       "    }\n",
       "</style>\n",
       "<table border=\"1\" class=\"dataframe\">\n",
       "  <thead>\n",
       "    <tr style=\"text-align: right;\">\n",
       "      <th></th>\n",
       "      <th>title</th>\n",
       "      <th>text</th>\n",
       "      <th>subject</th>\n",
       "      <th>date</th>\n",
       "      <th>class</th>\n",
       "    </tr>\n",
       "  </thead>\n",
       "  <tbody>\n",
       "    <tr>\n",
       "      <th>21412</th>\n",
       "      <td>'Fully committed' NATO backs new U.S. approach...</td>\n",
       "      <td>BRUSSELS (Reuters) - NATO allies on Tuesday we...</td>\n",
       "      <td>worldnews</td>\n",
       "      <td>August 22, 2022</td>\n",
       "      <td>1</td>\n",
       "    </tr>\n",
       "    <tr>\n",
       "      <th>21413</th>\n",
       "      <td>LexisNexis withdrew two products from Chinese ...</td>\n",
       "      <td>LONDON (Reuters) - LexisNexis, a provider of l...</td>\n",
       "      <td>worldnews</td>\n",
       "      <td>August 22, 2022</td>\n",
       "      <td>1</td>\n",
       "    </tr>\n",
       "    <tr>\n",
       "      <th>21414</th>\n",
       "      <td>Minsk cultural hub becomes haven from authorities</td>\n",
       "      <td>MINSK (Reuters) - In the shadow of disused Sov...</td>\n",
       "      <td>worldnews</td>\n",
       "      <td>August 22, 2022</td>\n",
       "      <td>1</td>\n",
       "    </tr>\n",
       "    <tr>\n",
       "      <th>21415</th>\n",
       "      <td>Vatican upbeat on possibility of Pope Francis ...</td>\n",
       "      <td>MOSCOW (Reuters) - Vatican Secretary of State ...</td>\n",
       "      <td>worldnews</td>\n",
       "      <td>August 22, 2022</td>\n",
       "      <td>1</td>\n",
       "    </tr>\n",
       "    <tr>\n",
       "      <th>21416</th>\n",
       "      <td>Indonesia to buy $1.14 billion worth of Russia...</td>\n",
       "      <td>JAKARTA (Reuters) - Indonesia will buy 11 Sukh...</td>\n",
       "      <td>worldnews</td>\n",
       "      <td>August 22, 2022</td>\n",
       "      <td>1</td>\n",
       "    </tr>\n",
       "  </tbody>\n",
       "</table>\n",
       "</div>"
      ],
      "text/plain": [
       "                                                   title  \\\n",
       "21412  'Fully committed' NATO backs new U.S. approach...   \n",
       "21413  LexisNexis withdrew two products from Chinese ...   \n",
       "21414  Minsk cultural hub becomes haven from authorities   \n",
       "21415  Vatican upbeat on possibility of Pope Francis ...   \n",
       "21416  Indonesia to buy $1.14 billion worth of Russia...   \n",
       "\n",
       "                                                    text    subject  \\\n",
       "21412  BRUSSELS (Reuters) - NATO allies on Tuesday we...  worldnews   \n",
       "21413  LONDON (Reuters) - LexisNexis, a provider of l...  worldnews   \n",
       "21414  MINSK (Reuters) - In the shadow of disused Sov...  worldnews   \n",
       "21415  MOSCOW (Reuters) - Vatican Secretary of State ...  worldnews   \n",
       "21416  JAKARTA (Reuters) - Indonesia will buy 11 Sukh...  worldnews   \n",
       "\n",
       "                   date  class  \n",
       "21412  August 22, 2022       1  \n",
       "21413  August 22, 2022       1  \n",
       "21414  August 22, 2022       1  \n",
       "21415  August 22, 2022       1  \n",
       "21416  August 22, 2022       1  "
      ]
     },
     "execution_count": 61,
     "metadata": {},
     "output_type": "execute_result"
    }
   ],
   "source": [
    "data_merge.tail()"
   ]
  },
  {
   "cell_type": "code",
   "execution_count": 62,
   "id": "8f241c0d",
   "metadata": {},
   "outputs": [
    {
     "data": {
      "text/plain": [
       "(40501, 5)"
      ]
     },
     "execution_count": 62,
     "metadata": {},
     "output_type": "execute_result"
    }
   ],
   "source": [
    "data_merge.shape"
   ]
  },
  {
   "cell_type": "code",
   "execution_count": 63,
   "id": "dd50d572",
   "metadata": {},
   "outputs": [
    {
     "data": {
      "text/plain": [
       "Index(['title', 'text', 'subject', 'date', 'class'], dtype='object')"
      ]
     },
     "execution_count": 63,
     "metadata": {},
     "output_type": "execute_result"
    }
   ],
   "source": [
    "data_merge.columns"
   ]
  },
  {
   "cell_type": "code",
   "execution_count": 64,
   "id": "28b6e68a",
   "metadata": {},
   "outputs": [
    {
     "data": {
      "text/html": [
       "<div>\n",
       "<style scoped>\n",
       "    .dataframe tbody tr th:only-of-type {\n",
       "        vertical-align: middle;\n",
       "    }\n",
       "\n",
       "    .dataframe tbody tr th {\n",
       "        vertical-align: top;\n",
       "    }\n",
       "\n",
       "    .dataframe thead th {\n",
       "        text-align: right;\n",
       "    }\n",
       "</style>\n",
       "<table border=\"1\" class=\"dataframe\">\n",
       "  <thead>\n",
       "    <tr style=\"text-align: right;\">\n",
       "      <th></th>\n",
       "      <th>title</th>\n",
       "      <th>text</th>\n",
       "      <th>subject</th>\n",
       "      <th>date</th>\n",
       "      <th>class</th>\n",
       "    </tr>\n",
       "  </thead>\n",
       "  <tbody>\n",
       "    <tr>\n",
       "      <th>0</th>\n",
       "      <td>Donald Trump Sends Out Embarrassing New Year’...</td>\n",
       "      <td>Donald Trump just couldn t wish all Americans ...</td>\n",
       "      <td>News</td>\n",
       "      <td>December 31, 2022</td>\n",
       "      <td>0</td>\n",
       "    </tr>\n",
       "    <tr>\n",
       "      <th>1</th>\n",
       "      <td>Drunk Bragging Trump Staffer Started Russian ...</td>\n",
       "      <td>House Intelligence Committee Chairman Devin Nu...</td>\n",
       "      <td>News</td>\n",
       "      <td>December 31, 2022</td>\n",
       "      <td>0</td>\n",
       "    </tr>\n",
       "    <tr>\n",
       "      <th>2</th>\n",
       "      <td>Sheriff David Clarke Becomes An Internet Joke...</td>\n",
       "      <td>On Friday, it was revealed that former Milwauk...</td>\n",
       "      <td>News</td>\n",
       "      <td>December 30, 2022</td>\n",
       "      <td>0</td>\n",
       "    </tr>\n",
       "    <tr>\n",
       "      <th>3</th>\n",
       "      <td>Trump Is So Obsessed He Even Has Obama’s Name...</td>\n",
       "      <td>On Christmas day, Donald Trump announced that ...</td>\n",
       "      <td>News</td>\n",
       "      <td>December 29, 2022</td>\n",
       "      <td>0</td>\n",
       "    </tr>\n",
       "    <tr>\n",
       "      <th>4</th>\n",
       "      <td>Pope Francis Just Called Out Donald Trump Dur...</td>\n",
       "      <td>Pope Francis used his annual Christmas Day mes...</td>\n",
       "      <td>News</td>\n",
       "      <td>December 25, 2022</td>\n",
       "      <td>0</td>\n",
       "    </tr>\n",
       "  </tbody>\n",
       "</table>\n",
       "</div>"
      ],
      "text/plain": [
       "                                               title  \\\n",
       "0   Donald Trump Sends Out Embarrassing New Year’...   \n",
       "1   Drunk Bragging Trump Staffer Started Russian ...   \n",
       "2   Sheriff David Clarke Becomes An Internet Joke...   \n",
       "3   Trump Is So Obsessed He Even Has Obama’s Name...   \n",
       "4   Pope Francis Just Called Out Donald Trump Dur...   \n",
       "\n",
       "                                                text subject  \\\n",
       "0  Donald Trump just couldn t wish all Americans ...    News   \n",
       "1  House Intelligence Committee Chairman Devin Nu...    News   \n",
       "2  On Friday, it was revealed that former Milwauk...    News   \n",
       "3  On Christmas day, Donald Trump announced that ...    News   \n",
       "4  Pope Francis used his annual Christmas Day mes...    News   \n",
       "\n",
       "                date  class  \n",
       "0  December 31, 2022      0  \n",
       "1  December 31, 2022      0  \n",
       "2  December 30, 2022      0  \n",
       "3  December 29, 2022      0  \n",
       "4  December 25, 2022      0  "
      ]
     },
     "execution_count": 64,
     "metadata": {},
     "output_type": "execute_result"
    }
   ],
   "source": [
    "data_merge.head()"
   ]
  },
  {
   "cell_type": "code",
   "execution_count": 65,
   "id": "b99ac6e0",
   "metadata": {},
   "outputs": [
    {
     "data": {
      "image/png": "[encoded data removed]",
      "text/plain": [
       "<Figure size 1000x800 with 2 Axes>"
      ]
     },
     "metadata": {},
     "output_type": "display_data"
    }
   ],
   "source": [
    "correlation_matrix = data_merge.corr()\n",
    "\n",
    "# Plotting the correlation matrix heatmap\n",
    "plt.figure(figsize=(10, 8))\n",
    "sns.heatmap(correlation_matrix, annot=True, cmap='coolwarm', fmt=\".2f\")\n",
    "plt.title('Correlation Matrix')\n",
    "plt.show()\n"
   ]
  },
  {
   "cell_type": "code",
   "execution_count": 66,
   "id": "2161f3e3",
   "metadata": {},
   "outputs": [
    {
     "data": {
      "image/png": "[encoded data removed]",
      "text/plain": [
       "<Figure size 1000x800 with 2 Axes>"
      ]
     },
     "metadata": {},
     "output_type": "display_data"
    }
   ],
   "source": [
    "from sklearn.preprocessing import LabelEncoder\n",
    "\n",
    "# data_merge DataFrame containing categorical variables\n",
    "encoder = LabelEncoder()\n",
    "data_encoded = data_merge.apply(encoder.fit_transform)\n",
    "\n",
    "# Calculate Cramer's V matrix\n",
    "categorical_corr = data_encoded.corr(method='pearson')\n",
    "\n",
    "# Plot heatmap\n",
    "plt.figure(figsize=(10, 8))\n",
    "sns.heatmap(categorical_corr, annot=True, cmap='coolwarm', fmt=\".2f\", linewidths=0.5)\n",
    "plt.title(\"Categorical Correlation (Cramer's V)\")\n",
    "plt.show()"
   ]
  },
  {
   "cell_type": "code",
   "execution_count": 67,
   "id": "9e5c5304",
   "metadata": {},
   "outputs": [
    {
     "name": "stdout",
     "output_type": "stream",
     "text": [
      "Number of unique titles: 34715\n",
      "\n",
      "Most common titles:\n",
      "Factbox: Trump fills top jobs for his administration                                                                                               14\n",
      "Factbox: Contenders for senior jobs in Trump's administration                                                                                       8\n",
      "MEDIA IGNORES Time That Bill Clinton FIRED His FBI Director On Day Before Vince Foster Was Found Dead                                               6\n",
      "Factbox: Contenders, picks for key jobs in Trump's administration                                                                                   5\n",
      "Factbox: Contenders for key jobs in Trump's administration                                                                                          4\n",
      "ELEMENTARY SCHOOL PLANS ‘BLACKS ONLY’ FIELD TRIP TO COLLEGE FOR THIRD GRADERS                                                                       4\n",
      "Factbox: Why the Zika virus is causing alarm                                                                                                        4\n",
      "Timeline: Zika's origin and global spread                                                                                                           4\n",
      "FORMER FBI ASST DIRECTOR: “Jim Comey ‘Danced With The Devil’…I’m Glad He’s Gone” [VIDEO]                                                            4\n",
      "BORDER PATROL AGENTS RAT OUT DHS: Government Secretly Puts Illegal Aliens On Busses…Dumps Them Off Into Unsuspecting Communities Across America     3\n",
      "Name: title, dtype: int64\n",
      "\n",
      "Summary statistics of title lengths:\n",
      "count    40501.000000\n",
      "mean        81.762426\n",
      "std         26.119996\n",
      "min          7.000000\n",
      "25%         64.000000\n",
      "50%         75.000000\n",
      "75%         93.000000\n",
      "max        480.000000\n",
      "Name: title_length, dtype: float64\n"
     ]
    }
   ],
   "source": [
    "# Number of unique titles\n",
    "num_unique_titles = data_merge['title'].nunique()\n",
    "print(\"Number of unique titles:\", num_unique_titles)\n",
    "\n",
    "# Most common titles\n",
    "most_common_titles = data_merge['title'].value_counts().head(10)\n",
    "print(\"\\nMost common titles:\")\n",
    "print(most_common_titles)\n",
    "\n",
    "# Length of titles\n",
    "data_merge['title_length'] = data_merge['title'].apply(len)\n",
    "print(\"\\nSummary statistics of title lengths:\")\n",
    "print(data_merge['title_length'].describe())\n"
   ]
  },
  {
   "cell_type": "code",
   "execution_count": 68,
   "id": "09ca0361",
   "metadata": {},
   "outputs": [
    {
     "data": {
      "image/png": "[encoded data removed]",
      "text/plain": [
       "<Figure size 1000x600 with 1 Axes>"
      ]
     },
     "metadata": {},
     "output_type": "display_data"
    }
   ],
   "source": [
    "from collections import Counter\n",
    "import matplotlib.pyplot as plt\n",
    "\n",
    "# Tokenize the titles into words\n",
    "titles_words = data_merge['title'].str.split()\n",
    "\n",
    "# Flatten the list of lists into a single list of words\n",
    "all_words = [word for sublist in titles_words for word in sublist]\n",
    "\n",
    "# Count the frequency of each word\n",
    "word_freq = Counter(all_words)\n",
    "\n",
    "# Convert the Counter object to a DataFrame for easier manipulation\n",
    "word_freq_df = pd.DataFrame(word_freq.items(), columns=['Word', 'Frequency'])\n",
    "\n",
    "# Sort the DataFrame by frequency in descending order\n",
    "word_freq_df = word_freq_df.sort_values(by='Frequency', ascending=False)\n",
    "\n",
    "# Plot the top 20 most common words\n",
    "plt.figure(figsize=(10, 6))\n",
    "plt.bar(word_freq_df['Word'][:20], word_freq_df['Frequency'][:20])\n",
    "plt.xticks(rotation=45, ha='right')\n",
    "plt.xlabel('Word')\n",
    "plt.ylabel('Frequency')\n",
    "plt.title('Top 20 Most Common Words in Titles')\n",
    "plt.show()\n"
   ]
  },
  {
   "cell_type": "code",
   "execution_count": 69,
   "id": "af016bf8",
   "metadata": {},
   "outputs": [
    {
     "data": {
      "image/png": "[encoded data removed]",
      "text/plain": [
       "<Figure size 1000x600 with 1 Axes>"
      ]
     },
     "metadata": {},
     "output_type": "display_data"
    }
   ],
   "source": [
    "# Text Length Analysis\n",
    "\n",
    "data_merge['text_length'] = data_merge['text'].apply(len)\n",
    "plt.figure(figsize=(10, 6))\n",
    "sns.histplot(data_merge['text_length'], bins=50, kde=True)\n",
    "plt.title('Distribution of Text Length')\n",
    "plt.xlabel('Text Length')\n",
    "plt.ylabel('Frequency')\n",
    "plt.show()\n",
    "\n"
   ]
  },
  {
   "cell_type": "code",
   "execution_count": 70,
   "id": "1a7ac5b0",
   "metadata": {},
   "outputs": [
    {
     "data": {
      "image/png": "[encoded data removed]",
      "text/plain": [
       "<Figure size 1000x600 with 1 Axes>"
      ]
     },
     "metadata": {},
     "output_type": "display_data"
    }
   ],
   "source": [
    "# Define the subjects and their counts\n",
    "subjects = ['politicsNews', 'News', 'worldnews', 'politics', 'left-news', 'Government News', 'US_News', 'Middle-east']\n",
    "subject_counts = [10054, 9050, 7079, 6835, 4457, 1570, 775, 670]\n",
    "\n",
    "# Set the color palette and background color\n",
    "sns.set(rc={'figure.figsize':(10,5)}, style='whitegrid', palette='icefire')\n",
    "\n",
    "# Plotting the distribution of categories\n",
    "plt.figure(figsize=(10, 6))\n",
    "plt.bar(subjects, subject_counts)\n",
    "plt.xlabel('Subject')\n",
    "plt.ylabel('Frequency')\n",
    "plt.title('Distribution of Subjects')\n",
    "plt.xticks(rotation=45)\n",
    "plt.show()"
   ]
  },
  {
   "cell_type": "code",
   "execution_count": 71,
   "id": "2b6538e6",
   "metadata": {},
   "outputs": [
    {
     "data": {
      "image/png": "[encoded data removed]",
      "text/plain": [
       "<Figure size 600x400 with 1 Axes>"
      ]
     },
     "metadata": {},
     "output_type": "display_data"
    }
   ],
   "source": [
    "# class column\n",
    "plt.figure(figsize=(6, 4))\n",
    "sns.countplot(data_merge['class'], palette='Set2')\n",
    "plt.title('Distribution of Classes')\n",
    "plt.xlabel('Class')\n",
    "plt.ylabel('Count')\n",
    "plt.show()"
   ]
  },
  {
   "cell_type": "code",
   "execution_count": 72,
   "id": "1355ad0f",
   "metadata": {},
   "outputs": [],
   "source": [
    "data = data_merge.drop(['title','subject','date','title_length','text_length'],axis=1)"
   ]
  },
  {
   "cell_type": "code",
   "execution_count": 73,
   "id": "60dec83f",
   "metadata": {},
   "outputs": [
    {
     "data": {
      "text/plain": [
       "text     0\n",
       "class    0\n",
       "dtype: int64"
      ]
     },
     "execution_count": 73,
     "metadata": {},
     "output_type": "execute_result"
    }
   ],
   "source": [
    "data.isnull().sum()"
   ]
  },
  {
   "cell_type": "code",
   "execution_count": 74,
   "id": "51ba24af",
   "metadata": {},
   "outputs": [],
   "source": [
    "data = data.sample(frac=1)"
   ]
  },
  {
   "cell_type": "code",
   "execution_count": 75,
   "id": "cc615752",
   "metadata": {},
   "outputs": [
    {
     "data": {
      "text/html": [
       "<div>\n",
       "<style scoped>\n",
       "    .dataframe tbody tr th:only-of-type {\n",
       "        vertical-align: middle;\n",
       "    }\n",
       "\n",
       "    .dataframe tbody tr th {\n",
       "        vertical-align: top;\n",
       "    }\n",
       "\n",
       "    .dataframe thead th {\n",
       "        text-align: right;\n",
       "    }\n",
       "</style>\n",
       "<table border=\"1\" class=\"dataframe\">\n",
       "  <thead>\n",
       "    <tr style=\"text-align: right;\">\n",
       "      <th></th>\n",
       "      <th>text</th>\n",
       "      <th>class</th>\n",
       "    </tr>\n",
       "  </thead>\n",
       "  <tbody>\n",
       "    <tr>\n",
       "      <th>23124</th>\n",
       "      <td>21st Century Wire says Our weekly documentary ...</td>\n",
       "      <td>0</td>\n",
       "    </tr>\n",
       "    <tr>\n",
       "      <th>15872</th>\n",
       "      <td>EDINBURGH (Reuters) - Pro-independence Scottis...</td>\n",
       "      <td>1</td>\n",
       "    </tr>\n",
       "    <tr>\n",
       "      <th>16765</th>\n",
       "      <td>MOSCOW (Reuters) - Russian Foreign Minister Se...</td>\n",
       "      <td>1</td>\n",
       "    </tr>\n",
       "    <tr>\n",
       "      <th>1482</th>\n",
       "      <td>The USDA, responsible for everything from our ...</td>\n",
       "      <td>0</td>\n",
       "    </tr>\n",
       "    <tr>\n",
       "      <th>915</th>\n",
       "      <td>House Speaker Paul Ryan s office is throwing y...</td>\n",
       "      <td>0</td>\n",
       "    </tr>\n",
       "  </tbody>\n",
       "</table>\n",
       "</div>"
      ],
      "text/plain": [
       "                                                    text  class\n",
       "23124  21st Century Wire says Our weekly documentary ...      0\n",
       "15872  EDINBURGH (Reuters) - Pro-independence Scottis...      1\n",
       "16765  MOSCOW (Reuters) - Russian Foreign Minister Se...      1\n",
       "1482   The USDA, responsible for everything from our ...      0\n",
       "915    House Speaker Paul Ryan s office is throwing y...      0"
      ]
     },
     "execution_count": 75,
     "metadata": {},
     "output_type": "execute_result"
    }
   ],
   "source": [
    "data.head()"
   ]
  },
  {
   "cell_type": "code",
   "execution_count": 76,
   "id": "f18c6f27",
   "metadata": {},
   "outputs": [],
   "source": [
    "data.reset_index(inplace = True)\n",
    "data.drop(['index'], axis = 1 ,inplace = True)"
   ]
  },
  {
   "cell_type": "code",
   "execution_count": 77,
   "id": "67b5c7e5",
   "metadata": {},
   "outputs": [
    {
     "data": {
      "text/plain": [
       "Index(['text', 'class'], dtype='object')"
      ]
     },
     "execution_count": 77,
     "metadata": {},
     "output_type": "execute_result"
    }
   ],
   "source": [
    "data.columns"
   ]
  },
  {
   "cell_type": "code",
   "execution_count": 78,
   "id": "48e2e54a",
   "metadata": {},
   "outputs": [
    {
     "data": {
      "text/html": [
       "<div>\n",
       "<style scoped>\n",
       "    .dataframe tbody tr th:only-of-type {\n",
       "        vertical-align: middle;\n",
       "    }\n",
       "\n",
       "    .dataframe tbody tr th {\n",
       "        vertical-align: top;\n",
       "    }\n",
       "\n",
       "    .dataframe thead th {\n",
       "        text-align: right;\n",
       "    }\n",
       "</style>\n",
       "<table border=\"1\" class=\"dataframe\">\n",
       "  <thead>\n",
       "    <tr style=\"text-align: right;\">\n",
       "      <th></th>\n",
       "      <th>text</th>\n",
       "      <th>class</th>\n",
       "    </tr>\n",
       "  </thead>\n",
       "  <tbody>\n",
       "    <tr>\n",
       "      <th>0</th>\n",
       "      <td>21st Century Wire says Our weekly documentary ...</td>\n",
       "      <td>0</td>\n",
       "    </tr>\n",
       "    <tr>\n",
       "      <th>1</th>\n",
       "      <td>EDINBURGH (Reuters) - Pro-independence Scottis...</td>\n",
       "      <td>1</td>\n",
       "    </tr>\n",
       "    <tr>\n",
       "      <th>2</th>\n",
       "      <td>MOSCOW (Reuters) - Russian Foreign Minister Se...</td>\n",
       "      <td>1</td>\n",
       "    </tr>\n",
       "    <tr>\n",
       "      <th>3</th>\n",
       "      <td>The USDA, responsible for everything from our ...</td>\n",
       "      <td>0</td>\n",
       "    </tr>\n",
       "    <tr>\n",
       "      <th>4</th>\n",
       "      <td>House Speaker Paul Ryan s office is throwing y...</td>\n",
       "      <td>0</td>\n",
       "    </tr>\n",
       "  </tbody>\n",
       "</table>\n",
       "</div>"
      ],
      "text/plain": [
       "                                                text  class\n",
       "0  21st Century Wire says Our weekly documentary ...      0\n",
       "1  EDINBURGH (Reuters) - Pro-independence Scottis...      1\n",
       "2  MOSCOW (Reuters) - Russian Foreign Minister Se...      1\n",
       "3  The USDA, responsible for everything from our ...      0\n",
       "4  House Speaker Paul Ryan s office is throwing y...      0"
      ]
     },
     "execution_count": 78,
     "metadata": {},
     "output_type": "execute_result"
    }
   ],
   "source": [
    "data.head()"
   ]
  },
  {
   "cell_type": "code",
   "execution_count": 79,
   "id": "19aa2532",
   "metadata": {},
   "outputs": [
    {
     "data": {
      "text/html": [
       "<div>\n",
       "<style scoped>\n",
       "    .dataframe tbody tr th:only-of-type {\n",
       "        vertical-align: middle;\n",
       "    }\n",
       "\n",
       "    .dataframe tbody tr th {\n",
       "        vertical-align: top;\n",
       "    }\n",
       "\n",
       "    .dataframe thead th {\n",
       "        text-align: right;\n",
       "    }\n",
       "</style>\n",
       "<table border=\"1\" class=\"dataframe\">\n",
       "  <thead>\n",
       "    <tr style=\"text-align: right;\">\n",
       "      <th></th>\n",
       "      <th>text</th>\n",
       "      <th>class</th>\n",
       "    </tr>\n",
       "  </thead>\n",
       "  <tbody>\n",
       "    <tr>\n",
       "      <th>40496</th>\n",
       "      <td>BEIJING (Reuters) - China must step up its bat...</td>\n",
       "      <td>1</td>\n",
       "    </tr>\n",
       "    <tr>\n",
       "      <th>40497</th>\n",
       "      <td>Is Barack Obama planning to use taxpayer money...</td>\n",
       "      <td>0</td>\n",
       "    </tr>\n",
       "    <tr>\n",
       "      <th>40498</th>\n",
       "      <td>For anyone who s paying attention, Hillary jus...</td>\n",
       "      <td>0</td>\n",
       "    </tr>\n",
       "    <tr>\n",
       "      <th>40499</th>\n",
       "      <td>Dems Panic In 5 4 3 2 1 Donald Trump s preside...</td>\n",
       "      <td>0</td>\n",
       "    </tr>\n",
       "    <tr>\n",
       "      <th>40500</th>\n",
       "      <td>BEIRUT (Reuters) - Rating agency Moody s warne...</td>\n",
       "      <td>1</td>\n",
       "    </tr>\n",
       "  </tbody>\n",
       "</table>\n",
       "</div>"
      ],
      "text/plain": [
       "                                                    text  class\n",
       "40496  BEIJING (Reuters) - China must step up its bat...      1\n",
       "40497  Is Barack Obama planning to use taxpayer money...      0\n",
       "40498  For anyone who s paying attention, Hillary jus...      0\n",
       "40499  Dems Panic In 5 4 3 2 1 Donald Trump s preside...      0\n",
       "40500  BEIRUT (Reuters) - Rating agency Moody s warne...      1"
      ]
     },
     "execution_count": 79,
     "metadata": {},
     "output_type": "execute_result"
    }
   ],
   "source": [
    "data.tail()"
   ]
  },
  {
   "cell_type": "code",
   "execution_count": 80,
   "id": "d5c0468f",
   "metadata": {},
   "outputs": [],
   "source": [
    "def wordopt(text):\n",
    "    text = text.lower()\n",
    "    text = re.sub('\\[.*?\\]','',text)\n",
    "    text = re.sub(\"\\\\W\", \" \",text)\n",
    "    text = re.sub('https?://\\S+|www\\.\\S+','',text)\n",
    "    text = re.sub('<.*?>+','',text)\n",
    "    text = re.sub('[%s]'% re.escape(string.punctuation),'',text)\n",
    "    text = re.sub('\\n','',text)\n",
    "    text = re.sub('\\w*\\d\\w*','',text)\n",
    "    return text\n",
    "    "
   ]
  },
  {
   "cell_type": "code",
   "execution_count": 81,
   "id": "70e8431e",
   "metadata": {},
   "outputs": [],
   "source": [
    "data['text']=data['text'].apply(wordopt)"
   ]
  },
  {
   "cell_type": "code",
   "execution_count": 82,
   "id": "234f708e",
   "metadata": {},
   "outputs": [
    {
     "data": {
      "text/html": [
       "<div>\n",
       "<style scoped>\n",
       "    .dataframe tbody tr th:only-of-type {\n",
       "        vertical-align: middle;\n",
       "    }\n",
       "\n",
       "    .dataframe tbody tr th {\n",
       "        vertical-align: top;\n",
       "    }\n",
       "\n",
       "    .dataframe thead th {\n",
       "        text-align: right;\n",
       "    }\n",
       "</style>\n",
       "<table border=\"1\" class=\"dataframe\">\n",
       "  <thead>\n",
       "    <tr style=\"text-align: right;\">\n",
       "      <th></th>\n",
       "      <th>text</th>\n",
       "      <th>class</th>\n",
       "    </tr>\n",
       "  </thead>\n",
       "  <tbody>\n",
       "    <tr>\n",
       "      <th>0</th>\n",
       "      <td>century wire says our weekly documentary film...</td>\n",
       "      <td>0</td>\n",
       "    </tr>\n",
       "    <tr>\n",
       "      <th>1</th>\n",
       "      <td>edinburgh  reuters    pro independence scottis...</td>\n",
       "      <td>1</td>\n",
       "    </tr>\n",
       "    <tr>\n",
       "      <th>2</th>\n",
       "      <td>moscow  reuters    russian foreign minister se...</td>\n",
       "      <td>1</td>\n",
       "    </tr>\n",
       "    <tr>\n",
       "      <th>3</th>\n",
       "      <td>the usda  responsible for everything from our ...</td>\n",
       "      <td>0</td>\n",
       "    </tr>\n",
       "    <tr>\n",
       "      <th>4</th>\n",
       "      <td>house speaker paul ryan s office is throwing y...</td>\n",
       "      <td>0</td>\n",
       "    </tr>\n",
       "  </tbody>\n",
       "</table>\n",
       "</div>"
      ],
      "text/plain": [
       "                                                text  class\n",
       "0   century wire says our weekly documentary film...      0\n",
       "1  edinburgh  reuters    pro independence scottis...      1\n",
       "2  moscow  reuters    russian foreign minister se...      1\n",
       "3  the usda  responsible for everything from our ...      0\n",
       "4  house speaker paul ryan s office is throwing y...      0"
      ]
     },
     "execution_count": 82,
     "metadata": {},
     "output_type": "execute_result"
    }
   ],
   "source": [
    "data.head()"
   ]
  },
  {
   "cell_type": "code",
   "execution_count": 83,
   "id": "8e8ec5ed",
   "metadata": {},
   "outputs": [],
   "source": [
    "x = data['text']\n",
    "y = data['class']"
   ]
  },
  {
   "cell_type": "code",
   "execution_count": 84,
   "id": "decbb6b6",
   "metadata": {},
   "outputs": [],
   "source": [
    "x_train, x_test, y_train, y_test = train_test_split(x,y,test_size = 0.25)"
   ]
  },
  {
   "cell_type": "code",
   "execution_count": 85,
   "id": "87cca9fe",
   "metadata": {},
   "outputs": [],
   "source": [
    "from sklearn.feature_extraction.text import TfidfVectorizer\n",
    "\n",
    "vectorization = TfidfVectorizer()\n",
    "xv_train = vectorization.fit_transform(x_train)\n",
    "xv_test = vectorization.transform(x_test)\n"
   ]
  },
  {
   "cell_type": "code",
   "execution_count": 86,
   "id": "434adf46",
   "metadata": {},
   "outputs": [
    {
     "data": {
      "text/plain": [
       "LogisticRegression()"
      ]
     },
     "execution_count": 86,
     "metadata": {},
     "output_type": "execute_result"
    }
   ],
   "source": [
    "from sklearn.linear_model import LogisticRegression\n",
    "\n",
    "LR = LogisticRegression()\n",
    "LR.fit(xv_train,y_train)"
   ]
  },
  {
   "cell_type": "code",
   "execution_count": 87,
   "id": "fbbeadc0",
   "metadata": {},
   "outputs": [],
   "source": [
    "pred_lr = LR.predict(xv_test) "
   ]
  },
  {
   "cell_type": "code",
   "execution_count": 88,
   "id": "e3860d70",
   "metadata": {},
   "outputs": [
    {
     "data": {
      "text/plain": [
       "0.986470472052143"
      ]
     },
     "execution_count": 88,
     "metadata": {},
     "output_type": "execute_result"
    }
   ],
   "source": [
    "LR.score(xv_test, y_test)"
   ]
  },
  {
   "cell_type": "code",
   "execution_count": 89,
   "id": "d0e4b5c2",
   "metadata": {},
   "outputs": [
    {
     "name": "stdout",
     "output_type": "stream",
     "text": [
      "              precision    recall  f1-score   support\n",
      "\n",
      "           0       0.99      0.99      0.99      5853\n",
      "           1       0.98      0.98      0.98      4273\n",
      "\n",
      "    accuracy                           0.99     10126\n",
      "   macro avg       0.99      0.99      0.99     10126\n",
      "weighted avg       0.99      0.99      0.99     10126\n",
      "\n"
     ]
    }
   ],
   "source": [
    "print(classification_report(y_test, pred_lr))"
   ]
  },
  {
   "cell_type": "code",
   "execution_count": 90,
   "id": "14b20207",
   "metadata": {},
   "outputs": [
    {
     "data": {
      "text/plain": [
       "DecisionTreeClassifier()"
      ]
     },
     "execution_count": 90,
     "metadata": {},
     "output_type": "execute_result"
    }
   ],
   "source": [
    "from sklearn.tree import DecisionTreeClassifier\n",
    "\n",
    "DT = DecisionTreeClassifier()\n",
    "DT.fit(xv_train,y_train)"
   ]
  },
  {
   "cell_type": "code",
   "execution_count": 91,
   "id": "3ab6bfab",
   "metadata": {},
   "outputs": [],
   "source": [
    "pred_dt = DT.predict(xv_test) "
   ]
  },
  {
   "cell_type": "code",
   "execution_count": 92,
   "id": "33223f93",
   "metadata": {},
   "outputs": [
    {
     "data": {
      "text/plain": [
       "0.9947659490420699"
      ]
     },
     "execution_count": 92,
     "metadata": {},
     "output_type": "execute_result"
    }
   ],
   "source": [
    "DT.score(xv_test, y_test)"
   ]
  },
  {
   "cell_type": "code",
   "execution_count": 93,
   "id": "362b2243",
   "metadata": {},
   "outputs": [
    {
     "name": "stdout",
     "output_type": "stream",
     "text": [
      "              precision    recall  f1-score   support\n",
      "\n",
      "           0       0.99      1.00      1.00      5853\n",
      "           1       0.99      0.99      0.99      4273\n",
      "\n",
      "    accuracy                           0.99     10126\n",
      "   macro avg       0.99      0.99      0.99     10126\n",
      "weighted avg       0.99      0.99      0.99     10126\n",
      "\n"
     ]
    }
   ],
   "source": [
    "print(classification_report(y_test, pred_dt))"
   ]
  },
  {
   "cell_type": "code",
   "execution_count": 94,
   "id": "8c0dc0c7",
   "metadata": {},
   "outputs": [
    {
     "data": {
      "text/plain": [
       "GradientBoostingClassifier()"
      ]
     },
     "execution_count": 94,
     "metadata": {},
     "output_type": "execute_result"
    }
   ],
   "source": [
    "from sklearn.ensemble import GradientBoostingClassifier\n",
    "\n",
    "GB = GradientBoostingClassifier()\n",
    "GB.fit(xv_train,y_train)"
   ]
  },
  {
   "cell_type": "code",
   "execution_count": 95,
   "id": "651de728",
   "metadata": {},
   "outputs": [],
   "source": [
    "pred_gb = GB.predict(xv_test)"
   ]
  },
  {
   "cell_type": "code",
   "execution_count": 96,
   "id": "cd7c767d",
   "metadata": {},
   "outputs": [
    {
     "data": {
      "text/plain": [
       "0.9960497728619395"
      ]
     },
     "execution_count": 96,
     "metadata": {},
     "output_type": "execute_result"
    }
   ],
   "source": [
    "GB.score(xv_test, y_test)"
   ]
  },
  {
   "cell_type": "code",
   "execution_count": 97,
   "id": "235e19a4",
   "metadata": {},
   "outputs": [
    {
     "name": "stdout",
     "output_type": "stream",
     "text": [
      "              precision    recall  f1-score   support\n",
      "\n",
      "           0       1.00      0.99      1.00      5853\n",
      "           1       0.99      1.00      1.00      4273\n",
      "\n",
      "    accuracy                           1.00     10126\n",
      "   macro avg       1.00      1.00      1.00     10126\n",
      "weighted avg       1.00      1.00      1.00     10126\n",
      "\n"
     ]
    }
   ],
   "source": [
    "print(classification_report(y_test, pred_gb))"
   ]
  },
  {
   "cell_type": "code",
   "execution_count": 98,
   "id": "d709ece5",
   "metadata": {},
   "outputs": [
    {
     "data": {
      "text/plain": [
       "RandomForestClassifier()"
      ]
     },
     "execution_count": 98,
     "metadata": {},
     "output_type": "execute_result"
    }
   ],
   "source": [
    "from sklearn.ensemble import RandomForestClassifier\n",
    "\n",
    "RF = RandomForestClassifier()\n",
    "RF.fit(xv_train,y_train)"
   ]
  },
  {
   "cell_type": "code",
   "execution_count": 99,
   "id": "eba180d2",
   "metadata": {},
   "outputs": [],
   "source": [
    "pred_rf = RF.predict(xv_test)"
   ]
  },
  {
   "cell_type": "code",
   "execution_count": 100,
   "id": "7c9e3c6a",
   "metadata": {},
   "outputs": [
    {
     "data": {
      "text/plain": [
       "0.9897294094410428"
      ]
     },
     "execution_count": 100,
     "metadata": {},
     "output_type": "execute_result"
    }
   ],
   "source": [
    "RF.score(xv_test, y_test)"
   ]
  },
  {
   "cell_type": "code",
   "execution_count": 101,
   "id": "127a9f03",
   "metadata": {},
   "outputs": [
    {
     "name": "stdout",
     "output_type": "stream",
     "text": [
      "              precision    recall  f1-score   support\n",
      "\n",
      "           0       0.99      0.99      0.99      5853\n",
      "           1       0.99      0.99      0.99      4273\n",
      "\n",
      "    accuracy                           0.99     10126\n",
      "   macro avg       0.99      0.99      0.99     10126\n",
      "weighted avg       0.99      0.99      0.99     10126\n",
      "\n"
     ]
    }
   ],
   "source": [
    "print(classification_report(y_test, pred_rf))"
   ]
  },
  {
   "cell_type": "code",
   "execution_count": 102,
   "id": "e341ee67",
   "metadata": {},
   "outputs": [],
   "source": [
    "import xgboost as xgb\n"
   ]
  },
  {
   "cell_type": "code",
   "execution_count": 103,
   "id": "aba37d13",
   "metadata": {},
   "outputs": [
    {
     "data": {
      "text/plain": [
       "XGBClassifier(base_score=None, booster=None, callbacks=None,\n",
       "              colsample_bylevel=None, colsample_bynode=None,\n",
       "              colsample_bytree=None, early_stopping_rounds=None,\n",
       "              enable_categorical=False, eval_metric=None, feature_types=None,\n",
       "              gamma=None, gpu_id=None, grow_policy=None, importance_type=None,\n",
       "              interaction_constraints=None, learning_rate=None, max_bin=None,\n",
       "              max_cat_threshold=None, max_cat_to_onehot=None,\n",
       "              max_delta_step=None, max_depth=None, max_leaves=None,\n",
       "              min_child_weight=None, missing=nan, monotone_constraints=None,\n",
       "              n_estimators=100, n_jobs=None, num_parallel_tree=None,\n",
       "              predictor=None, random_state=None, ...)"
      ]
     },
     "execution_count": 103,
     "metadata": {},
     "output_type": "execute_result"
    }
   ],
   "source": [
    "# Train XGBoost model\n",
    "xgb_model = xgb.XGBClassifier()\n",
    "xgb_model.fit(xv_train, y_train)"
   ]
  },
  {
   "cell_type": "code",
   "execution_count": 104,
   "id": "593fc349",
   "metadata": {},
   "outputs": [],
   "source": [
    "# Make predictions with XGBoost\n",
    "pred_xgb = xgb_model.predict(xv_test)"
   ]
  },
  {
   "cell_type": "code",
   "execution_count": 105,
   "id": "4beb102a",
   "metadata": {},
   "outputs": [
    {
     "name": "stdout",
     "output_type": "stream",
     "text": [
      "XGBoost Classification Report:\n",
      "              precision    recall  f1-score   support\n",
      "\n",
      "           0       1.00      1.00      1.00      5853\n",
      "           1       1.00      1.00      1.00      4273\n",
      "\n",
      "    accuracy                           1.00     10126\n",
      "   macro avg       1.00      1.00      1.00     10126\n",
      "weighted avg       1.00      1.00      1.00     10126\n",
      "\n"
     ]
    }
   ],
   "source": [
    "# Evaluate XGBoost model\n",
    "print(\"XGBoost Classification Report:\")\n",
    "print(classification_report(y_test, pred_xgb))\n"
   ]
  },
  {
   "cell_type": "code",
   "execution_count": 106,
   "id": "0feb298e",
   "metadata": {},
   "outputs": [
    {
     "name": "stdout",
     "output_type": "stream",
     "text": [
      "Gradient Boosting Classification Report:\n",
      "              precision    recall  f1-score   support\n",
      "\n",
      "           0       1.00      0.99      1.00      5853\n",
      "           1       0.99      1.00      1.00      4273\n",
      "\n",
      "    accuracy                           1.00     10126\n",
      "   macro avg       1.00      1.00      1.00     10126\n",
      "weighted avg       1.00      1.00      1.00     10126\n",
      "\n"
     ]
    }
   ],
   "source": [
    "# Continue with Gradient Boosting evaluation\n",
    "print(\"Gradient Boosting Classification Report:\")\n",
    "print(classification_report(y_test, pred_gb))"
   ]
  },
  {
   "cell_type": "code",
   "execution_count": 107,
   "id": "ed35ebda",
   "metadata": {},
   "outputs": [
    {
     "data": {
      "text/plain": [
       "AdaBoostClassifier()"
      ]
     },
     "execution_count": 107,
     "metadata": {},
     "output_type": "execute_result"
    }
   ],
   "source": [
    "from sklearn.ensemble import AdaBoostClassifier\n",
    "from sklearn.metrics import classification_report\n",
    "\n",
    "# Train AdaBoost model\n",
    "ada_model = AdaBoostClassifier()\n",
    "ada_model.fit(xv_train, y_train)\n"
   ]
  },
  {
   "cell_type": "code",
   "execution_count": 108,
   "id": "6f08931e",
   "metadata": {},
   "outputs": [],
   "source": [
    "# Make predictions with AdaBoost\n",
    "pred_ada = ada_model.predict(xv_test)"
   ]
  },
  {
   "cell_type": "code",
   "execution_count": 109,
   "id": "3b10ab13",
   "metadata": {},
   "outputs": [
    {
     "name": "stdout",
     "output_type": "stream",
     "text": [
      "AdaBoost Classification Report:\n",
      "              precision    recall  f1-score   support\n",
      "\n",
      "           0       1.00      1.00      1.00      5853\n",
      "           1       0.99      1.00      1.00      4273\n",
      "\n",
      "    accuracy                           1.00     10126\n",
      "   macro avg       1.00      1.00      1.00     10126\n",
      "weighted avg       1.00      1.00      1.00     10126\n",
      "\n"
     ]
    }
   ],
   "source": [
    "# Evaluate AdaBoost model\n",
    "print(\"AdaBoost Classification Report:\")\n",
    "print(classification_report(y_test, pred_ada))"
   ]
  },
  {
   "cell_type": "code",
   "execution_count": 110,
   "id": "1e0eb224",
   "metadata": {},
   "outputs": [],
   "source": [
    "def output_label(n):\n",
    "    if n == 0:\n",
    "        return \"Fake News\"\n",
    "    else:\n",
    "        return \"Not a Fake News\""
   ]
  },
  {
   "cell_type": "code",
   "execution_count": 111,
   "id": "4bb96000",
   "metadata": {},
   "outputs": [],
   "source": [
    "def manual_test(news):\n",
    "    testing_news = {\"text\": [news]}\n",
    "    new_def_test = pd.DataFrame(testing_news)\n",
    "    new_def_test[\"text\"] = new_def_test[\"text\"].apply(wordopt)\n",
    "    new_x_test = new_def_test[\"text\"]\n",
    "    new_xv_test = vectorization.transform(new_x_test)\n",
    "    \n",
    "    pred_LR = LR.predict(new_xv_test)\n",
    "    pred_RF = RF.predict(new_xv_test)\n",
    "    \n",
    "    return print(\"\\nLR prediction: {} \\nRF prediction: {}\".format(output_label(pred_LR[0]), output_label(pred_RF[0])))"
   ]
  },
  {
   "cell_type": "code",
   "execution_count": 124,
   "id": "d3572edc",
   "metadata": {},
   "outputs": [
    {
     "name": "stdout",
     "output_type": "stream",
     "text": [
      "Enter the news article: \"NASA Confirms Earth Will Experience 15 Days of Darkness in November\"  This headline spreads a false claim about a celestial event that NASA has never confirmed. Such sensationalized headlines aim to attract clicks and shares without regard for accuracy.\n",
      "\n",
      "LR prediction: Fake News \n",
      "RF prediction: Fake News\n"
     ]
    }
   ],
   "source": [
    "news = str(input(\"Enter the news article: \"))\n",
    "manual_test(news)\n"
   ]
  },
  {
   "cell_type": "markdown",
   "id": "b0e585c7",
   "metadata": {},
   "source": [
    "# Real News Examples\n"
   ]
  },
  {
   "cell_type": "code",
   "execution_count": 114,
   "id": "e0836d48",
   "metadata": {},
   "outputs": [
    {
     "ename": "SyntaxError",
     "evalue": "invalid syntax (1477198183.py, line 1)",
     "output_type": "error",
     "traceback": [
      "\u001b[1;36m  Cell \u001b[1;32mIn[114], line 1\u001b[1;36m\u001b[0m\n\u001b[1;33m    U.S. Special Counsel Robert Mueller unveiled a trove of documents on Friday showing what he said was irrefutable evidence that President Donald Trump former campaign manager Paul Manafort violated a court gag order by ghost-writing an opinion piece designed to improve his public image. In a 41-page court filing, prosecutors provided emails, copies of documents tracking edits of the draft, and other materials they said proved that Manafort wrote a positive article about his political work in Ukraine. That opinion article, which was published on Thursday in an English-language Ukrainian newspaper, also closely tracked  talking points that Manafort and his business associate Rick Gates created as far back as August 2016, when Manafort was forced to resign from the Trump campaign.\u001b[0m\n\u001b[1;37m                 ^\u001b[0m\n\u001b[1;31mSyntaxError\u001b[0m\u001b[1;31m:\u001b[0m invalid syntax\n"
     ]
    }
   ],
   "source": [
    "U.S. Special Counsel Robert Mueller unveiled a trove of documents on Friday showing what he said was irrefutable evidence that President Donald Trump former campaign manager Paul Manafort violated a court gag order by ghost-writing an opinion piece designed to improve his public image. In a 41-page court filing, prosecutors provided emails, copies of documents tracking edits of the draft, and other materials they said proved that Manafort wrote a positive article about his political work in Ukraine. That opinion article, which was published on Thursday in an English-language Ukrainian newspaper, also closely tracked  talking points that Manafort and his business associate Rick Gates created as far back as August 2016, when Manafort was forced to resign from the Trump campaign. \n"
   ]
  },
  {
   "cell_type": "code",
   "execution_count": null,
   "id": "b11a769c",
   "metadata": {},
   "outputs": [],
   "source": [
    "The White House said on Thursday it was focusing on getting the lowest corporate rate possible in tax reform legislation being considered on Capitol Hill. â€œFifteen (percent) is better than 20, 20 is better than 22 and 22 is better than what we have, White House spokeswoman Sarah Sanders told reporters. \n"
   ]
  },
  {
   "cell_type": "code",
   "execution_count": null,
   "id": "40468f75",
   "metadata": {},
   "outputs": [],
   "source": [
    "U.S. Democratic Senator Al Franken, facing intense pressure to step down following allegations of sexual misconduct, will make an announcement at 11:45 a.m. (1645 GMT) on Thursday, his office said. Franken spokesman Michael Dale-Stein said Franken would make a statement on the Senate floor but did not elaborate. \n"
   ]
  },
  {
   "cell_type": "code",
   "execution_count": null,
   "id": "f0cd4eb1",
   "metadata": {},
   "outputs": [],
   "source": [
    "U.S. Senate Republicans agreed to talks with the House of Representatives on sweeping tax legislation on Wednesday, amid early signs that lawmakers could bridge their differences and agree on a final bill ahead of a self-imposed Dec. 22 deadline.   The Republican-led Senate voted 51-47, along party lines with Democrats opposed, to begin formal conference negotiations to reconcile rival House and Senate tax bills passed last week. The move, which follows similar House action this week, brings Congress a step closer to sending President Donald Trump a tax overhaul that he can sign into law. House and Senate negotiators will need to work out differences on issues ranging from business taxes to the repeal of the Obamacare mandate that Americans obtain health insurance or face a penalty before lawmakers can pass a final version. But John Cornyn, the No. 2 Senate Republican, said he was optimistic House and Senate tax negotiators would be able to work out an agreement within the next two weeks. â€œGiven the similarities between the House and the Senate bills, I think there are some obvious targets where they need to focus their attention but obviously they wonâ€™t be rewriting the bills,â€ Cornyn said. Republican negotiators must be careful not to agree to changes that could diminish support in the Senate, where they can afford to lose support from no more than two party members. There has been no major tax overhaul since 1986, when Republican Ronald Reagan was president.   While there are significant differences between the House and Senate bills, both would cut the U.S. corporate tax rate to 20 percent from 35 percent, provide tax relief for â€œpass-throughâ€ enterprises including small businesses where earnings are taxed at individual rates, and both benefit the wealthiest Americans and reduce the tax burden for most middle-class taxpayers.  Republicans claim the legislation will spur enough economic growth to pay for the tax cuts with new revenue, but the nonpartisan Joint Committee on Taxation estimates that Senate bill would still add $1 trillion to the federal budget deficit over a decade, even with an economic upswing. U.S. stock prices have rallied on growing optimism that tax legislation will become law. But on Wednesday, the head of sovereign credit ratings at S&P Global told Reuters that the rising deficit and looser fiscal policy could prompt negative action on U.S. credit ratings unless Washington addressed long-term budgetary issues.  â€œIf U.S. tax reform is approved, it seems certain to increase the federal budget deficit,â€ Moritz Kraemer, S&Pâ€™s sovereign global chief rating officer, said in an interview. â€œA meaningful relaxation of fiscal policy without countervailing measures to address the longer-term fiscal challenges of the U.S. could lead to a negative rating action.â€ Senate Republicans later voted down a Democratic motion instructing tax negotiators to produce a deficit-neutral bill.   Passage of the tax bill would provide a badly needed legislative victory for Trump and Republicans after their failure earlier this year to enact legislation repealing President Barack Obamaâ€™s signature healthcare law. Trump and his Republican allies see enacting the tax overhaul that they promised voters as crucial to their strategy for the 2018 U.S. congressional elections, when all 435 seats in the House of Representatives and 33 seats in the 100-member Senate will be up for election. Democrats have been united against the bill, calling it a handout to corporations and the rich that would drive up the federal deficit. In an early sign of progress on reconciling the House and Senate versions, Senator Orrin Hatch, chairman of the tax-writing Finance Committee, said he did not think that the final bill would retain a corporate alternative minimum tax (AMT). The House bill calls for a repeal of the corporate AMT, which is designed to limit the ability of corporations to reduce their payments through tax breaks and credits. Corporate AMT repeal is not part of the Senate version. Getting rid of the corporate AMT would be popular with many businesses and would also be a concession toward the House bill. But repeal would also require lawmakers to replace the $40 billion in revenues that retaining the corporate AMT would raise over a decade. Increasing the corporate income tax target from 20 percent is seen as one way to pay for the AMT repeal and other potential changes. â€œIâ€™ll keep it at 20 if I can, but thereâ€™s a drive to get it to 22. They want more money, thats why.Hatch told reporters. \n"
   ]
  },
  {
   "cell_type": "code",
   "execution_count": null,
   "id": "4ac8857f",
   "metadata": {},
   "outputs": [],
   "source": [
    "\"U.S. Senate Republicans agreed to talks with the House of Representatives on sweeping tax legislation on Wednesday, amid early signs that lawmakers could bridge their differences and agree on a final bill ahead of a self-imposed Dec. 22 deadline. The Republican-led Senate voted 51-47, along party lines with Democrats opposed, to begin formal conference negotiations to reconcile rival House and Senate tax bills passed last week. The move, which follows similar House action this week, brings Congress a step closer to sending President Donald Trump a tax overhaul that he can sign into law."
   ]
  },
  {
   "cell_type": "code",
   "execution_count": null,
   "id": "add4f20c",
   "metadata": {},
   "outputs": [],
   "source": [
    "House and Senate negotiators will need to work out differences on issues ranging from business taxes to the repeal of the Obamacare mandate that Americans obtain health insurance or face a penalty before lawmakers can pass a final version. But John Cornyn, the No. 2 Senate Republican, said he was optimistic House and Senate tax negotiators would be able to work out an agreement within the next two weeks. Republican negotiators must be careful not to agree to changes that could diminish support in the Senate, where they can afford to lose support from no more than two party members. There has been no major tax overhaul since 1986, when Republican Ronald Reagan was president. While there are significant differences between the House and Senate bills, both would cut the U.S. corporate tax rate to 20 percent from 35 percent, provide tax relief for \"pass-through enterprises including small businesses where earnings are taxed at individual rates, and both benefit the wealthiest Americans and reduce the tax burden for most middle-class taxpayers. "
   ]
  },
  {
   "cell_type": "code",
   "execution_count": null,
   "id": "d89ed636",
   "metadata": {},
   "outputs": [],
   "source": [
    "Republicans claim the legislation will spur enough economic growth to pay for the tax cuts with new revenue, but the nonpartisan Joint Committee on Taxation estimates that Senate bill would still add $1 trillion to the federal budget deficit over a decade, even with an economic upswing. U.S. stock prices have rallied on growing optimism that tax legislation will become law. But on Wednesday, the head of sovereign credit ratings at S&P Global told Reuters that the rising deficit and looser fiscal policy could prompt negative action on U.S. credit ratings unless Washington addressed long-term budgetary issues. If U.S. tax reform is approved, it seems certain to increase the federal budget deficit, a Moritz Kraemer, S&P's sovereign global chief rating officer, said in an interview. A meaningful relaxation of fiscal policy without countervailing measures to address the longer-term fiscal challenges of the U.S. could lead to a negative rating action. Senate Republicans later voted down a Democratic motion instructing tax negotiators to produce a deficit-neutral bill."
   ]
  },
  {
   "cell_type": "code",
   "execution_count": null,
   "id": "16db83a3",
   "metadata": {},
   "outputs": [],
   "source": [
    "Democrats have been united against the bill, calling it a handout to corporations and the rich that would drive up the federal deficit. In an early sign of progress on reconciling the House and Senate versions, Senator Orrin Hatch, chairman of the tax-writing Finance Committee, said he did not think that the final bill would retain a corporate alternative minimum tax (AMT). The House bill calls for a repeal of the corporate AMT, which is designed to limit the ability of corporations to reduce their payments through tax breaks and credits. "
   ]
  },
  {
   "cell_type": "code",
   "execution_count": null,
   "id": "e9473e5d",
   "metadata": {},
   "outputs": [],
   "source": [
    "But repeal would also require lawmakers to replace the $40 billion in revenues that retaining the corporate AMT would raise over a decade. Increasing the corporate income tax target from 20 percent is seen as one way to pay for the AMT repeal and other potential changes. all keep it at 20 if I can, but there's a drive to get it to 22. They want more money, that's why,\""
   ]
  },
  {
   "cell_type": "code",
   "execution_count": null,
   "id": "2d3489d2",
   "metadata": {},
   "outputs": [],
   "source": [
    "U.S. Senator Dick Durbin, the No. 2 Democrat in the Senate, said on Wednesday that fellow Democrat Al Franken should resign in light of sexual misconduct allegations against him. 'Senator Franken's behavior was wrong. He has admitted to what he did. He should resign from the Senate,' Durbin said on Twitter. Durbin marked the 15th Democratic senator, including third-ranking Democrat Patty Murray, to call on Wednesday for Franken to step down.\""
   ]
  },
  {
   "cell_type": "markdown",
   "id": "039feb41",
   "metadata": {},
   "source": [
    "# Fake News Examples"
   ]
  },
  {
   "cell_type": "code",
   "execution_count": 115,
   "id": "94bc04e4",
   "metadata": {},
   "outputs": [
    {
     "ename": "SyntaxError",
     "evalue": "invalid syntax (2986306967.py, line 1)",
     "output_type": "error",
     "traceback": [
      "\u001b[1;36m  Cell \u001b[1;32mIn[115], line 1\u001b[1;36m\u001b[0m\n\u001b[1;33m    Donald Trump has warned that there will be a “bloodbath” if he loses in November. While campaigning for Senate candidate Bernie Moreno in Ohio, the former president said that he, and not Joe Biden, will protect Social Security.Speaking outside of Dayton on Saturday, March 16, Trump praised his chosen candidate in the race as an “America first champion” and “political outsider who has spent his entire life building up Ohio communities.” “He’s going to be a warrior in Washington,” Trump said.In Tuesday’s primary, Moreno faces Secretary of State Frank LaRose and state Sen. Matt Dolan in Tuesday’s GOP primary. Saturday’s rally was held by Buckeye Values PAC, a group that backs Moreno’s candidacy.\u001b[0m\n\u001b[1;37m           ^\u001b[0m\n\u001b[1;31mSyntaxError\u001b[0m\u001b[1;31m:\u001b[0m invalid syntax\n"
     ]
    }
   ],
   "source": [
    "Donald Trump has warned that there will be a “bloodbath” if he loses in November. While campaigning for Senate candidate Bernie Moreno in Ohio, the former president said that he, and not Joe Biden, will protect Social Security.Speaking outside of Dayton on Saturday, March 16, Trump praised his chosen candidate in the race as an “America first champion” and “political outsider who has spent his entire life building up Ohio communities.” “He’s going to be a warrior in Washington,” Trump said.In Tuesday’s primary, Moreno faces Secretary of State Frank LaRose and state Sen. Matt Dolan in Tuesday’s GOP primary. Saturday’s rally was held by Buckeye Values PAC, a group that backs Moreno’s candidacy.\n",
    "\n",
    "Using the stage, Trump said, “If I don’t get elected, it’s going to be a bloodbath ... It’s going to be a bloodbath for the country.” He later added that “If this election isn’t won, I’m not sure that you’ll ever have another election in this country.\n"
   ]
  },
  {
   "cell_type": "code",
   "execution_count": null,
   "id": "2cc3e6a3",
   "metadata": {},
   "outputs": [],
   "source": [
    "\"Study Finds Link Between Vaccines and Autism\"\n",
    "\n",
    "This headline suggests a connection between vaccines and autism, which has been debunked by numerous scientific studies. Fake news articles like these can spread misinformation and contribute to vaccine hesitancy.\n"
   ]
  },
  {
   "cell_type": "code",
   "execution_count": null,
   "id": "4ddeba81",
   "metadata": {},
   "outputs": [],
   "source": [
    "\"NASA Confirms Earth Will Experience 15 Days of Darkness in November\"\n",
    "\n",
    "This headline spreads a false claim about a celestial event that NASA has never confirmed. Such sensationalized headlines aim to attract clicks and shares without regard for accuracy."
   ]
  },
  {
   "cell_type": "code",
   "execution_count": null,
   "id": "6097fd75",
   "metadata": {},
   "outputs": [],
   "source": [
    "\"Breaking: Hillary Clinton Indicted on Federal Charges\"\n",
    "\n",
    "This type of headline preys on political biases and seeks to discredit a political figure. In reality, there was no indictment of Hillary Clinton on federal charges, but fake news articles like these can manipulate public opinion."
   ]
  },
  {
   "cell_type": "code",
   "execution_count": null,
   "id": "73630d64",
   "metadata": {},
   "outputs": [],
   "source": [
    "\"New Study Shows Eating Chocolate Every Day Leads to Weight Loss\"\n",
    "\n",
    "This headline promotes a too-good-to-be-true claim that eating chocolate can lead to weight loss. Fake health news like this can mislead readers and promote unhealthy habits.\n",
    "\"Elon Musk Buys Entire Continent of Africa\""
   ]
  },
  {
   "cell_type": "code",
   "execution_count": null,
   "id": "5451dfce",
   "metadata": {},
   "outputs": [],
   "source": [
    "\"Elon Musk Buys Entire Continent of Africa\"\n",
    "\n",
    "This headline is absurd and clearly false, but such outlandish claims can sometimes gain traction on social media platforms before being debunked. It demonstrates how fake news can spread quickly if not critically evaluated."
   ]
  }
 ],
 "metadata": {
  "kernelspec": {
   "display_name": "Python 3 (ipykernel)",
   "language": "python",
   "name": "python3"
  },
  "language_info": {
   "codemirror_mode": {
    "name": "ipython",
    "version": 3
   },
   "file_extension": ".py",
   "mimetype": "text/x-python",
   "name": "python",
   "nbconvert_exporter": "python",
   "pygments_lexer": "ipython3",
   "version": "3.9.7"
  }
 },
 "nbformat": 4,
 "nbformat_minor": 5
}
